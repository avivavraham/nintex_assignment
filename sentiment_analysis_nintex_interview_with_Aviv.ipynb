{
  "nbformat": 4,
  "nbformat_minor": 0,
  "metadata": {
    "colab": {
      "provenance": [],
      "collapsed_sections": [
        "KcGx5tC_fnHW",
        "iRh4nG3Mf8Pa",
        "qqTlC8Yhg5gM",
        "xVBwsO7DhJ4O",
        "TjXOnXZzhPKt",
        "dp93bZywrGGv",
        "Qrd4PLEk3G78",
        "-mJGh0GduK5j",
        "xZ7uAFglxCPQ",
        "zsIYc7RmaqMy"
      ],
      "gpuType": "T4",
      "authorship_tag": "ABX9TyPqdGX+IiSDARa1QxXrMMZU",
      "include_colab_link": true
    },
    "kernelspec": {
      "name": "python3",
      "display_name": "Python 3"
    },
    "language_info": {
      "name": "python"
    },
    "accelerator": "GPU",
    "widgets": {
      "application/vnd.jupyter.widget-state+json": {
        "2bd2715ca0844acd800639c626da6a07": {
          "model_module": "@jupyter-widgets/controls",
          "model_name": "HBoxModel",
          "model_module_version": "1.5.0",
          "state": {
            "_dom_classes": [],
            "_model_module": "@jupyter-widgets/controls",
            "_model_module_version": "1.5.0",
            "_model_name": "HBoxModel",
            "_view_count": null,
            "_view_module": "@jupyter-widgets/controls",
            "_view_module_version": "1.5.0",
            "_view_name": "HBoxView",
            "box_style": "",
            "children": [
              "IPY_MODEL_bf06668141294a49b27e1e832e01bbe9",
              "IPY_MODEL_662ca5958cf4448fa8f8d62fadfbb69d",
              "IPY_MODEL_b13eb6054ba84738a35f5c60e8fcd4b4"
            ],
            "layout": "IPY_MODEL_950017786c3c4058929b4ac11639abf5"
          }
        },
        "bf06668141294a49b27e1e832e01bbe9": {
          "model_module": "@jupyter-widgets/controls",
          "model_name": "HTMLModel",
          "model_module_version": "1.5.0",
          "state": {
            "_dom_classes": [],
            "_model_module": "@jupyter-widgets/controls",
            "_model_module_version": "1.5.0",
            "_model_name": "HTMLModel",
            "_view_count": null,
            "_view_module": "@jupyter-widgets/controls",
            "_view_module_version": "1.5.0",
            "_view_name": "HTMLView",
            "description": "",
            "description_tooltip": null,
            "layout": "IPY_MODEL_0d57172e9ff74b599d3fd1c62a95dc5a",
            "placeholder": "​",
            "style": "IPY_MODEL_5dcca46ff94142d5a034415ac47a9284",
            "value": "config.json: 100%"
          }
        },
        "662ca5958cf4448fa8f8d62fadfbb69d": {
          "model_module": "@jupyter-widgets/controls",
          "model_name": "FloatProgressModel",
          "model_module_version": "1.5.0",
          "state": {
            "_dom_classes": [],
            "_model_module": "@jupyter-widgets/controls",
            "_model_module_version": "1.5.0",
            "_model_name": "FloatProgressModel",
            "_view_count": null,
            "_view_module": "@jupyter-widgets/controls",
            "_view_module_version": "1.5.0",
            "_view_name": "ProgressView",
            "bar_style": "success",
            "description": "",
            "description_tooltip": null,
            "layout": "IPY_MODEL_ec152fc4cfc34301829ee163dbc7642a",
            "max": 953,
            "min": 0,
            "orientation": "horizontal",
            "style": "IPY_MODEL_3afb08675baa4040a909272889a222f0",
            "value": 953
          }
        },
        "b13eb6054ba84738a35f5c60e8fcd4b4": {
          "model_module": "@jupyter-widgets/controls",
          "model_name": "HTMLModel",
          "model_module_version": "1.5.0",
          "state": {
            "_dom_classes": [],
            "_model_module": "@jupyter-widgets/controls",
            "_model_module_version": "1.5.0",
            "_model_name": "HTMLModel",
            "_view_count": null,
            "_view_module": "@jupyter-widgets/controls",
            "_view_module_version": "1.5.0",
            "_view_name": "HTMLView",
            "description": "",
            "description_tooltip": null,
            "layout": "IPY_MODEL_f05bf64d19414b58be048d52395599ff",
            "placeholder": "​",
            "style": "IPY_MODEL_d2405e7dee364e6aa2f75f2f14ece981",
            "value": " 953/953 [00:00&lt;00:00, 11.1kB/s]"
          }
        },
        "950017786c3c4058929b4ac11639abf5": {
          "model_module": "@jupyter-widgets/base",
          "model_name": "LayoutModel",
          "model_module_version": "1.2.0",
          "state": {
            "_model_module": "@jupyter-widgets/base",
            "_model_module_version": "1.2.0",
            "_model_name": "LayoutModel",
            "_view_count": null,
            "_view_module": "@jupyter-widgets/base",
            "_view_module_version": "1.2.0",
            "_view_name": "LayoutView",
            "align_content": null,
            "align_items": null,
            "align_self": null,
            "border": null,
            "bottom": null,
            "display": null,
            "flex": null,
            "flex_flow": null,
            "grid_area": null,
            "grid_auto_columns": null,
            "grid_auto_flow": null,
            "grid_auto_rows": null,
            "grid_column": null,
            "grid_gap": null,
            "grid_row": null,
            "grid_template_areas": null,
            "grid_template_columns": null,
            "grid_template_rows": null,
            "height": null,
            "justify_content": null,
            "justify_items": null,
            "left": null,
            "margin": null,
            "max_height": null,
            "max_width": null,
            "min_height": null,
            "min_width": null,
            "object_fit": null,
            "object_position": null,
            "order": null,
            "overflow": null,
            "overflow_x": null,
            "overflow_y": null,
            "padding": null,
            "right": null,
            "top": null,
            "visibility": null,
            "width": null
          }
        },
        "0d57172e9ff74b599d3fd1c62a95dc5a": {
          "model_module": "@jupyter-widgets/base",
          "model_name": "LayoutModel",
          "model_module_version": "1.2.0",
          "state": {
            "_model_module": "@jupyter-widgets/base",
            "_model_module_version": "1.2.0",
            "_model_name": "LayoutModel",
            "_view_count": null,
            "_view_module": "@jupyter-widgets/base",
            "_view_module_version": "1.2.0",
            "_view_name": "LayoutView",
            "align_content": null,
            "align_items": null,
            "align_self": null,
            "border": null,
            "bottom": null,
            "display": null,
            "flex": null,
            "flex_flow": null,
            "grid_area": null,
            "grid_auto_columns": null,
            "grid_auto_flow": null,
            "grid_auto_rows": null,
            "grid_column": null,
            "grid_gap": null,
            "grid_row": null,
            "grid_template_areas": null,
            "grid_template_columns": null,
            "grid_template_rows": null,
            "height": null,
            "justify_content": null,
            "justify_items": null,
            "left": null,
            "margin": null,
            "max_height": null,
            "max_width": null,
            "min_height": null,
            "min_width": null,
            "object_fit": null,
            "object_position": null,
            "order": null,
            "overflow": null,
            "overflow_x": null,
            "overflow_y": null,
            "padding": null,
            "right": null,
            "top": null,
            "visibility": null,
            "width": null
          }
        },
        "5dcca46ff94142d5a034415ac47a9284": {
          "model_module": "@jupyter-widgets/controls",
          "model_name": "DescriptionStyleModel",
          "model_module_version": "1.5.0",
          "state": {
            "_model_module": "@jupyter-widgets/controls",
            "_model_module_version": "1.5.0",
            "_model_name": "DescriptionStyleModel",
            "_view_count": null,
            "_view_module": "@jupyter-widgets/base",
            "_view_module_version": "1.2.0",
            "_view_name": "StyleView",
            "description_width": ""
          }
        },
        "ec152fc4cfc34301829ee163dbc7642a": {
          "model_module": "@jupyter-widgets/base",
          "model_name": "LayoutModel",
          "model_module_version": "1.2.0",
          "state": {
            "_model_module": "@jupyter-widgets/base",
            "_model_module_version": "1.2.0",
            "_model_name": "LayoutModel",
            "_view_count": null,
            "_view_module": "@jupyter-widgets/base",
            "_view_module_version": "1.2.0",
            "_view_name": "LayoutView",
            "align_content": null,
            "align_items": null,
            "align_self": null,
            "border": null,
            "bottom": null,
            "display": null,
            "flex": null,
            "flex_flow": null,
            "grid_area": null,
            "grid_auto_columns": null,
            "grid_auto_flow": null,
            "grid_auto_rows": null,
            "grid_column": null,
            "grid_gap": null,
            "grid_row": null,
            "grid_template_areas": null,
            "grid_template_columns": null,
            "grid_template_rows": null,
            "height": null,
            "justify_content": null,
            "justify_items": null,
            "left": null,
            "margin": null,
            "max_height": null,
            "max_width": null,
            "min_height": null,
            "min_width": null,
            "object_fit": null,
            "object_position": null,
            "order": null,
            "overflow": null,
            "overflow_x": null,
            "overflow_y": null,
            "padding": null,
            "right": null,
            "top": null,
            "visibility": null,
            "width": null
          }
        },
        "3afb08675baa4040a909272889a222f0": {
          "model_module": "@jupyter-widgets/controls",
          "model_name": "ProgressStyleModel",
          "model_module_version": "1.5.0",
          "state": {
            "_model_module": "@jupyter-widgets/controls",
            "_model_module_version": "1.5.0",
            "_model_name": "ProgressStyleModel",
            "_view_count": null,
            "_view_module": "@jupyter-widgets/base",
            "_view_module_version": "1.2.0",
            "_view_name": "StyleView",
            "bar_color": null,
            "description_width": ""
          }
        },
        "f05bf64d19414b58be048d52395599ff": {
          "model_module": "@jupyter-widgets/base",
          "model_name": "LayoutModel",
          "model_module_version": "1.2.0",
          "state": {
            "_model_module": "@jupyter-widgets/base",
            "_model_module_version": "1.2.0",
            "_model_name": "LayoutModel",
            "_view_count": null,
            "_view_module": "@jupyter-widgets/base",
            "_view_module_version": "1.2.0",
            "_view_name": "LayoutView",
            "align_content": null,
            "align_items": null,
            "align_self": null,
            "border": null,
            "bottom": null,
            "display": null,
            "flex": null,
            "flex_flow": null,
            "grid_area": null,
            "grid_auto_columns": null,
            "grid_auto_flow": null,
            "grid_auto_rows": null,
            "grid_column": null,
            "grid_gap": null,
            "grid_row": null,
            "grid_template_areas": null,
            "grid_template_columns": null,
            "grid_template_rows": null,
            "height": null,
            "justify_content": null,
            "justify_items": null,
            "left": null,
            "margin": null,
            "max_height": null,
            "max_width": null,
            "min_height": null,
            "min_width": null,
            "object_fit": null,
            "object_position": null,
            "order": null,
            "overflow": null,
            "overflow_x": null,
            "overflow_y": null,
            "padding": null,
            "right": null,
            "top": null,
            "visibility": null,
            "width": null
          }
        },
        "d2405e7dee364e6aa2f75f2f14ece981": {
          "model_module": "@jupyter-widgets/controls",
          "model_name": "DescriptionStyleModel",
          "model_module_version": "1.5.0",
          "state": {
            "_model_module": "@jupyter-widgets/controls",
            "_model_module_version": "1.5.0",
            "_model_name": "DescriptionStyleModel",
            "_view_count": null,
            "_view_module": "@jupyter-widgets/base",
            "_view_module_version": "1.2.0",
            "_view_name": "StyleView",
            "description_width": ""
          }
        },
        "2437d32d30114602825ea9c8a53c74ca": {
          "model_module": "@jupyter-widgets/controls",
          "model_name": "HBoxModel",
          "model_module_version": "1.5.0",
          "state": {
            "_dom_classes": [],
            "_model_module": "@jupyter-widgets/controls",
            "_model_module_version": "1.5.0",
            "_model_name": "HBoxModel",
            "_view_count": null,
            "_view_module": "@jupyter-widgets/controls",
            "_view_module_version": "1.5.0",
            "_view_name": "HBoxView",
            "box_style": "",
            "children": [
              "IPY_MODEL_1a5189cb85224c17951716601d36c9df",
              "IPY_MODEL_e566b7b8669448359fdcfb503f053022",
              "IPY_MODEL_4b14f4cffa8445f89842e066a5d6b704"
            ],
            "layout": "IPY_MODEL_da06340281224fa593e2375efd56340b"
          }
        },
        "1a5189cb85224c17951716601d36c9df": {
          "model_module": "@jupyter-widgets/controls",
          "model_name": "HTMLModel",
          "model_module_version": "1.5.0",
          "state": {
            "_dom_classes": [],
            "_model_module": "@jupyter-widgets/controls",
            "_model_module_version": "1.5.0",
            "_model_name": "HTMLModel",
            "_view_count": null,
            "_view_module": "@jupyter-widgets/controls",
            "_view_module_version": "1.5.0",
            "_view_name": "HTMLView",
            "description": "",
            "description_tooltip": null,
            "layout": "IPY_MODEL_77df974352ba4b61bcc8220dc3634389",
            "placeholder": "​",
            "style": "IPY_MODEL_bcb3d3ffcb114018b05566c9fbc6fad5",
            "value": "pytorch_model.bin: 100%"
          }
        },
        "e566b7b8669448359fdcfb503f053022": {
          "model_module": "@jupyter-widgets/controls",
          "model_name": "FloatProgressModel",
          "model_module_version": "1.5.0",
          "state": {
            "_dom_classes": [],
            "_model_module": "@jupyter-widgets/controls",
            "_model_module_version": "1.5.0",
            "_model_name": "FloatProgressModel",
            "_view_count": null,
            "_view_module": "@jupyter-widgets/controls",
            "_view_module_version": "1.5.0",
            "_view_name": "ProgressView",
            "bar_style": "success",
            "description": "",
            "description_tooltip": null,
            "layout": "IPY_MODEL_fa3b1c76be47448aa8cecf1f4c8febf2",
            "max": 669491321,
            "min": 0,
            "orientation": "horizontal",
            "style": "IPY_MODEL_fc62cc9a131145288fb7eaa3e10cd74b",
            "value": 669491321
          }
        },
        "4b14f4cffa8445f89842e066a5d6b704": {
          "model_module": "@jupyter-widgets/controls",
          "model_name": "HTMLModel",
          "model_module_version": "1.5.0",
          "state": {
            "_dom_classes": [],
            "_model_module": "@jupyter-widgets/controls",
            "_model_module_version": "1.5.0",
            "_model_name": "HTMLModel",
            "_view_count": null,
            "_view_module": "@jupyter-widgets/controls",
            "_view_module_version": "1.5.0",
            "_view_name": "HTMLView",
            "description": "",
            "description_tooltip": null,
            "layout": "IPY_MODEL_d2b6712535b04b048b31e2831889e454",
            "placeholder": "​",
            "style": "IPY_MODEL_ab73f580ad7342c08c0fe18ee60f5fa2",
            "value": " 669M/669M [00:06&lt;00:00, 116MB/s]"
          }
        },
        "da06340281224fa593e2375efd56340b": {
          "model_module": "@jupyter-widgets/base",
          "model_name": "LayoutModel",
          "model_module_version": "1.2.0",
          "state": {
            "_model_module": "@jupyter-widgets/base",
            "_model_module_version": "1.2.0",
            "_model_name": "LayoutModel",
            "_view_count": null,
            "_view_module": "@jupyter-widgets/base",
            "_view_module_version": "1.2.0",
            "_view_name": "LayoutView",
            "align_content": null,
            "align_items": null,
            "align_self": null,
            "border": null,
            "bottom": null,
            "display": null,
            "flex": null,
            "flex_flow": null,
            "grid_area": null,
            "grid_auto_columns": null,
            "grid_auto_flow": null,
            "grid_auto_rows": null,
            "grid_column": null,
            "grid_gap": null,
            "grid_row": null,
            "grid_template_areas": null,
            "grid_template_columns": null,
            "grid_template_rows": null,
            "height": null,
            "justify_content": null,
            "justify_items": null,
            "left": null,
            "margin": null,
            "max_height": null,
            "max_width": null,
            "min_height": null,
            "min_width": null,
            "object_fit": null,
            "object_position": null,
            "order": null,
            "overflow": null,
            "overflow_x": null,
            "overflow_y": null,
            "padding": null,
            "right": null,
            "top": null,
            "visibility": null,
            "width": null
          }
        },
        "77df974352ba4b61bcc8220dc3634389": {
          "model_module": "@jupyter-widgets/base",
          "model_name": "LayoutModel",
          "model_module_version": "1.2.0",
          "state": {
            "_model_module": "@jupyter-widgets/base",
            "_model_module_version": "1.2.0",
            "_model_name": "LayoutModel",
            "_view_count": null,
            "_view_module": "@jupyter-widgets/base",
            "_view_module_version": "1.2.0",
            "_view_name": "LayoutView",
            "align_content": null,
            "align_items": null,
            "align_self": null,
            "border": null,
            "bottom": null,
            "display": null,
            "flex": null,
            "flex_flow": null,
            "grid_area": null,
            "grid_auto_columns": null,
            "grid_auto_flow": null,
            "grid_auto_rows": null,
            "grid_column": null,
            "grid_gap": null,
            "grid_row": null,
            "grid_template_areas": null,
            "grid_template_columns": null,
            "grid_template_rows": null,
            "height": null,
            "justify_content": null,
            "justify_items": null,
            "left": null,
            "margin": null,
            "max_height": null,
            "max_width": null,
            "min_height": null,
            "min_width": null,
            "object_fit": null,
            "object_position": null,
            "order": null,
            "overflow": null,
            "overflow_x": null,
            "overflow_y": null,
            "padding": null,
            "right": null,
            "top": null,
            "visibility": null,
            "width": null
          }
        },
        "bcb3d3ffcb114018b05566c9fbc6fad5": {
          "model_module": "@jupyter-widgets/controls",
          "model_name": "DescriptionStyleModel",
          "model_module_version": "1.5.0",
          "state": {
            "_model_module": "@jupyter-widgets/controls",
            "_model_module_version": "1.5.0",
            "_model_name": "DescriptionStyleModel",
            "_view_count": null,
            "_view_module": "@jupyter-widgets/base",
            "_view_module_version": "1.2.0",
            "_view_name": "StyleView",
            "description_width": ""
          }
        },
        "fa3b1c76be47448aa8cecf1f4c8febf2": {
          "model_module": "@jupyter-widgets/base",
          "model_name": "LayoutModel",
          "model_module_version": "1.2.0",
          "state": {
            "_model_module": "@jupyter-widgets/base",
            "_model_module_version": "1.2.0",
            "_model_name": "LayoutModel",
            "_view_count": null,
            "_view_module": "@jupyter-widgets/base",
            "_view_module_version": "1.2.0",
            "_view_name": "LayoutView",
            "align_content": null,
            "align_items": null,
            "align_self": null,
            "border": null,
            "bottom": null,
            "display": null,
            "flex": null,
            "flex_flow": null,
            "grid_area": null,
            "grid_auto_columns": null,
            "grid_auto_flow": null,
            "grid_auto_rows": null,
            "grid_column": null,
            "grid_gap": null,
            "grid_row": null,
            "grid_template_areas": null,
            "grid_template_columns": null,
            "grid_template_rows": null,
            "height": null,
            "justify_content": null,
            "justify_items": null,
            "left": null,
            "margin": null,
            "max_height": null,
            "max_width": null,
            "min_height": null,
            "min_width": null,
            "object_fit": null,
            "object_position": null,
            "order": null,
            "overflow": null,
            "overflow_x": null,
            "overflow_y": null,
            "padding": null,
            "right": null,
            "top": null,
            "visibility": null,
            "width": null
          }
        },
        "fc62cc9a131145288fb7eaa3e10cd74b": {
          "model_module": "@jupyter-widgets/controls",
          "model_name": "ProgressStyleModel",
          "model_module_version": "1.5.0",
          "state": {
            "_model_module": "@jupyter-widgets/controls",
            "_model_module_version": "1.5.0",
            "_model_name": "ProgressStyleModel",
            "_view_count": null,
            "_view_module": "@jupyter-widgets/base",
            "_view_module_version": "1.2.0",
            "_view_name": "StyleView",
            "bar_color": null,
            "description_width": ""
          }
        },
        "d2b6712535b04b048b31e2831889e454": {
          "model_module": "@jupyter-widgets/base",
          "model_name": "LayoutModel",
          "model_module_version": "1.2.0",
          "state": {
            "_model_module": "@jupyter-widgets/base",
            "_model_module_version": "1.2.0",
            "_model_name": "LayoutModel",
            "_view_count": null,
            "_view_module": "@jupyter-widgets/base",
            "_view_module_version": "1.2.0",
            "_view_name": "LayoutView",
            "align_content": null,
            "align_items": null,
            "align_self": null,
            "border": null,
            "bottom": null,
            "display": null,
            "flex": null,
            "flex_flow": null,
            "grid_area": null,
            "grid_auto_columns": null,
            "grid_auto_flow": null,
            "grid_auto_rows": null,
            "grid_column": null,
            "grid_gap": null,
            "grid_row": null,
            "grid_template_areas": null,
            "grid_template_columns": null,
            "grid_template_rows": null,
            "height": null,
            "justify_content": null,
            "justify_items": null,
            "left": null,
            "margin": null,
            "max_height": null,
            "max_width": null,
            "min_height": null,
            "min_width": null,
            "object_fit": null,
            "object_position": null,
            "order": null,
            "overflow": null,
            "overflow_x": null,
            "overflow_y": null,
            "padding": null,
            "right": null,
            "top": null,
            "visibility": null,
            "width": null
          }
        },
        "ab73f580ad7342c08c0fe18ee60f5fa2": {
          "model_module": "@jupyter-widgets/controls",
          "model_name": "DescriptionStyleModel",
          "model_module_version": "1.5.0",
          "state": {
            "_model_module": "@jupyter-widgets/controls",
            "_model_module_version": "1.5.0",
            "_model_name": "DescriptionStyleModel",
            "_view_count": null,
            "_view_module": "@jupyter-widgets/base",
            "_view_module_version": "1.2.0",
            "_view_name": "StyleView",
            "description_width": ""
          }
        },
        "06181c5a75734c4cae970592aec135ab": {
          "model_module": "@jupyter-widgets/controls",
          "model_name": "HBoxModel",
          "model_module_version": "1.5.0",
          "state": {
            "_dom_classes": [],
            "_model_module": "@jupyter-widgets/controls",
            "_model_module_version": "1.5.0",
            "_model_name": "HBoxModel",
            "_view_count": null,
            "_view_module": "@jupyter-widgets/controls",
            "_view_module_version": "1.5.0",
            "_view_name": "HBoxView",
            "box_style": "",
            "children": [
              "IPY_MODEL_fe094c70d5af42e7b01409e7a7259d0d",
              "IPY_MODEL_f2292f37bf4141cbb3a7aef5ce90dd2e",
              "IPY_MODEL_439f5fa402cc4554b1653214ce55d227"
            ],
            "layout": "IPY_MODEL_2dea528dec454fffaa1740342853330c"
          }
        },
        "fe094c70d5af42e7b01409e7a7259d0d": {
          "model_module": "@jupyter-widgets/controls",
          "model_name": "HTMLModel",
          "model_module_version": "1.5.0",
          "state": {
            "_dom_classes": [],
            "_model_module": "@jupyter-widgets/controls",
            "_model_module_version": "1.5.0",
            "_model_name": "HTMLModel",
            "_view_count": null,
            "_view_module": "@jupyter-widgets/controls",
            "_view_module_version": "1.5.0",
            "_view_name": "HTMLView",
            "description": "",
            "description_tooltip": null,
            "layout": "IPY_MODEL_4220bd06e1dc4463acc6eb584e0033d3",
            "placeholder": "​",
            "style": "IPY_MODEL_a9e08998581848b5931999f29c76771a",
            "value": "tokenizer_config.json: 100%"
          }
        },
        "f2292f37bf4141cbb3a7aef5ce90dd2e": {
          "model_module": "@jupyter-widgets/controls",
          "model_name": "FloatProgressModel",
          "model_module_version": "1.5.0",
          "state": {
            "_dom_classes": [],
            "_model_module": "@jupyter-widgets/controls",
            "_model_module_version": "1.5.0",
            "_model_name": "FloatProgressModel",
            "_view_count": null,
            "_view_module": "@jupyter-widgets/controls",
            "_view_module_version": "1.5.0",
            "_view_name": "ProgressView",
            "bar_style": "success",
            "description": "",
            "description_tooltip": null,
            "layout": "IPY_MODEL_0ee04a4c0375414da023d041b7eb929e",
            "max": 39,
            "min": 0,
            "orientation": "horizontal",
            "style": "IPY_MODEL_2566b18f25aa47a9af7aefedae328cc1",
            "value": 39
          }
        },
        "439f5fa402cc4554b1653214ce55d227": {
          "model_module": "@jupyter-widgets/controls",
          "model_name": "HTMLModel",
          "model_module_version": "1.5.0",
          "state": {
            "_dom_classes": [],
            "_model_module": "@jupyter-widgets/controls",
            "_model_module_version": "1.5.0",
            "_model_name": "HTMLModel",
            "_view_count": null,
            "_view_module": "@jupyter-widgets/controls",
            "_view_module_version": "1.5.0",
            "_view_name": "HTMLView",
            "description": "",
            "description_tooltip": null,
            "layout": "IPY_MODEL_af45f416f1cc459999dcccf410b00d87",
            "placeholder": "​",
            "style": "IPY_MODEL_6596bfcf1dcc482193aa9553d1e4ddb9",
            "value": " 39.0/39.0 [00:00&lt;00:00, 625B/s]"
          }
        },
        "2dea528dec454fffaa1740342853330c": {
          "model_module": "@jupyter-widgets/base",
          "model_name": "LayoutModel",
          "model_module_version": "1.2.0",
          "state": {
            "_model_module": "@jupyter-widgets/base",
            "_model_module_version": "1.2.0",
            "_model_name": "LayoutModel",
            "_view_count": null,
            "_view_module": "@jupyter-widgets/base",
            "_view_module_version": "1.2.0",
            "_view_name": "LayoutView",
            "align_content": null,
            "align_items": null,
            "align_self": null,
            "border": null,
            "bottom": null,
            "display": null,
            "flex": null,
            "flex_flow": null,
            "grid_area": null,
            "grid_auto_columns": null,
            "grid_auto_flow": null,
            "grid_auto_rows": null,
            "grid_column": null,
            "grid_gap": null,
            "grid_row": null,
            "grid_template_areas": null,
            "grid_template_columns": null,
            "grid_template_rows": null,
            "height": null,
            "justify_content": null,
            "justify_items": null,
            "left": null,
            "margin": null,
            "max_height": null,
            "max_width": null,
            "min_height": null,
            "min_width": null,
            "object_fit": null,
            "object_position": null,
            "order": null,
            "overflow": null,
            "overflow_x": null,
            "overflow_y": null,
            "padding": null,
            "right": null,
            "top": null,
            "visibility": null,
            "width": null
          }
        },
        "4220bd06e1dc4463acc6eb584e0033d3": {
          "model_module": "@jupyter-widgets/base",
          "model_name": "LayoutModel",
          "model_module_version": "1.2.0",
          "state": {
            "_model_module": "@jupyter-widgets/base",
            "_model_module_version": "1.2.0",
            "_model_name": "LayoutModel",
            "_view_count": null,
            "_view_module": "@jupyter-widgets/base",
            "_view_module_version": "1.2.0",
            "_view_name": "LayoutView",
            "align_content": null,
            "align_items": null,
            "align_self": null,
            "border": null,
            "bottom": null,
            "display": null,
            "flex": null,
            "flex_flow": null,
            "grid_area": null,
            "grid_auto_columns": null,
            "grid_auto_flow": null,
            "grid_auto_rows": null,
            "grid_column": null,
            "grid_gap": null,
            "grid_row": null,
            "grid_template_areas": null,
            "grid_template_columns": null,
            "grid_template_rows": null,
            "height": null,
            "justify_content": null,
            "justify_items": null,
            "left": null,
            "margin": null,
            "max_height": null,
            "max_width": null,
            "min_height": null,
            "min_width": null,
            "object_fit": null,
            "object_position": null,
            "order": null,
            "overflow": null,
            "overflow_x": null,
            "overflow_y": null,
            "padding": null,
            "right": null,
            "top": null,
            "visibility": null,
            "width": null
          }
        },
        "a9e08998581848b5931999f29c76771a": {
          "model_module": "@jupyter-widgets/controls",
          "model_name": "DescriptionStyleModel",
          "model_module_version": "1.5.0",
          "state": {
            "_model_module": "@jupyter-widgets/controls",
            "_model_module_version": "1.5.0",
            "_model_name": "DescriptionStyleModel",
            "_view_count": null,
            "_view_module": "@jupyter-widgets/base",
            "_view_module_version": "1.2.0",
            "_view_name": "StyleView",
            "description_width": ""
          }
        },
        "0ee04a4c0375414da023d041b7eb929e": {
          "model_module": "@jupyter-widgets/base",
          "model_name": "LayoutModel",
          "model_module_version": "1.2.0",
          "state": {
            "_model_module": "@jupyter-widgets/base",
            "_model_module_version": "1.2.0",
            "_model_name": "LayoutModel",
            "_view_count": null,
            "_view_module": "@jupyter-widgets/base",
            "_view_module_version": "1.2.0",
            "_view_name": "LayoutView",
            "align_content": null,
            "align_items": null,
            "align_self": null,
            "border": null,
            "bottom": null,
            "display": null,
            "flex": null,
            "flex_flow": null,
            "grid_area": null,
            "grid_auto_columns": null,
            "grid_auto_flow": null,
            "grid_auto_rows": null,
            "grid_column": null,
            "grid_gap": null,
            "grid_row": null,
            "grid_template_areas": null,
            "grid_template_columns": null,
            "grid_template_rows": null,
            "height": null,
            "justify_content": null,
            "justify_items": null,
            "left": null,
            "margin": null,
            "max_height": null,
            "max_width": null,
            "min_height": null,
            "min_width": null,
            "object_fit": null,
            "object_position": null,
            "order": null,
            "overflow": null,
            "overflow_x": null,
            "overflow_y": null,
            "padding": null,
            "right": null,
            "top": null,
            "visibility": null,
            "width": null
          }
        },
        "2566b18f25aa47a9af7aefedae328cc1": {
          "model_module": "@jupyter-widgets/controls",
          "model_name": "ProgressStyleModel",
          "model_module_version": "1.5.0",
          "state": {
            "_model_module": "@jupyter-widgets/controls",
            "_model_module_version": "1.5.0",
            "_model_name": "ProgressStyleModel",
            "_view_count": null,
            "_view_module": "@jupyter-widgets/base",
            "_view_module_version": "1.2.0",
            "_view_name": "StyleView",
            "bar_color": null,
            "description_width": ""
          }
        },
        "af45f416f1cc459999dcccf410b00d87": {
          "model_module": "@jupyter-widgets/base",
          "model_name": "LayoutModel",
          "model_module_version": "1.2.0",
          "state": {
            "_model_module": "@jupyter-widgets/base",
            "_model_module_version": "1.2.0",
            "_model_name": "LayoutModel",
            "_view_count": null,
            "_view_module": "@jupyter-widgets/base",
            "_view_module_version": "1.2.0",
            "_view_name": "LayoutView",
            "align_content": null,
            "align_items": null,
            "align_self": null,
            "border": null,
            "bottom": null,
            "display": null,
            "flex": null,
            "flex_flow": null,
            "grid_area": null,
            "grid_auto_columns": null,
            "grid_auto_flow": null,
            "grid_auto_rows": null,
            "grid_column": null,
            "grid_gap": null,
            "grid_row": null,
            "grid_template_areas": null,
            "grid_template_columns": null,
            "grid_template_rows": null,
            "height": null,
            "justify_content": null,
            "justify_items": null,
            "left": null,
            "margin": null,
            "max_height": null,
            "max_width": null,
            "min_height": null,
            "min_width": null,
            "object_fit": null,
            "object_position": null,
            "order": null,
            "overflow": null,
            "overflow_x": null,
            "overflow_y": null,
            "padding": null,
            "right": null,
            "top": null,
            "visibility": null,
            "width": null
          }
        },
        "6596bfcf1dcc482193aa9553d1e4ddb9": {
          "model_module": "@jupyter-widgets/controls",
          "model_name": "DescriptionStyleModel",
          "model_module_version": "1.5.0",
          "state": {
            "_model_module": "@jupyter-widgets/controls",
            "_model_module_version": "1.5.0",
            "_model_name": "DescriptionStyleModel",
            "_view_count": null,
            "_view_module": "@jupyter-widgets/base",
            "_view_module_version": "1.2.0",
            "_view_name": "StyleView",
            "description_width": ""
          }
        },
        "d012e59641614d4ab8a92307eaf29b76": {
          "model_module": "@jupyter-widgets/controls",
          "model_name": "HBoxModel",
          "model_module_version": "1.5.0",
          "state": {
            "_dom_classes": [],
            "_model_module": "@jupyter-widgets/controls",
            "_model_module_version": "1.5.0",
            "_model_name": "HBoxModel",
            "_view_count": null,
            "_view_module": "@jupyter-widgets/controls",
            "_view_module_version": "1.5.0",
            "_view_name": "HBoxView",
            "box_style": "",
            "children": [
              "IPY_MODEL_42b1f5b294854b9394cafdac0bb8d264",
              "IPY_MODEL_ba048a26718f464eaba5e594f063a397",
              "IPY_MODEL_ee4fd00b65cd4560b5081b2918513aae"
            ],
            "layout": "IPY_MODEL_1dd972bbfb1c408797b98eb07e3fb15b"
          }
        },
        "42b1f5b294854b9394cafdac0bb8d264": {
          "model_module": "@jupyter-widgets/controls",
          "model_name": "HTMLModel",
          "model_module_version": "1.5.0",
          "state": {
            "_dom_classes": [],
            "_model_module": "@jupyter-widgets/controls",
            "_model_module_version": "1.5.0",
            "_model_name": "HTMLModel",
            "_view_count": null,
            "_view_module": "@jupyter-widgets/controls",
            "_view_module_version": "1.5.0",
            "_view_name": "HTMLView",
            "description": "",
            "description_tooltip": null,
            "layout": "IPY_MODEL_56db77c71fbe4f0b8e31c49302b68e31",
            "placeholder": "​",
            "style": "IPY_MODEL_a613442ff76348c0b04e3a9131d67eab",
            "value": "vocab.txt: 100%"
          }
        },
        "ba048a26718f464eaba5e594f063a397": {
          "model_module": "@jupyter-widgets/controls",
          "model_name": "FloatProgressModel",
          "model_module_version": "1.5.0",
          "state": {
            "_dom_classes": [],
            "_model_module": "@jupyter-widgets/controls",
            "_model_module_version": "1.5.0",
            "_model_name": "FloatProgressModel",
            "_view_count": null,
            "_view_module": "@jupyter-widgets/controls",
            "_view_module_version": "1.5.0",
            "_view_name": "ProgressView",
            "bar_style": "success",
            "description": "",
            "description_tooltip": null,
            "layout": "IPY_MODEL_c37d89d9b20f4ce9aac0b69ed8127a2e",
            "max": 871891,
            "min": 0,
            "orientation": "horizontal",
            "style": "IPY_MODEL_5e317ad93c2c4374b64783909c92d7af",
            "value": 871891
          }
        },
        "ee4fd00b65cd4560b5081b2918513aae": {
          "model_module": "@jupyter-widgets/controls",
          "model_name": "HTMLModel",
          "model_module_version": "1.5.0",
          "state": {
            "_dom_classes": [],
            "_model_module": "@jupyter-widgets/controls",
            "_model_module_version": "1.5.0",
            "_model_name": "HTMLModel",
            "_view_count": null,
            "_view_module": "@jupyter-widgets/controls",
            "_view_module_version": "1.5.0",
            "_view_name": "HTMLView",
            "description": "",
            "description_tooltip": null,
            "layout": "IPY_MODEL_6d84a9203d0f4da998e3d7ea3f97e6f9",
            "placeholder": "​",
            "style": "IPY_MODEL_be2d3ff1614d49f393b388488638cac5",
            "value": " 872k/872k [00:00&lt;00:00, 8.22MB/s]"
          }
        },
        "1dd972bbfb1c408797b98eb07e3fb15b": {
          "model_module": "@jupyter-widgets/base",
          "model_name": "LayoutModel",
          "model_module_version": "1.2.0",
          "state": {
            "_model_module": "@jupyter-widgets/base",
            "_model_module_version": "1.2.0",
            "_model_name": "LayoutModel",
            "_view_count": null,
            "_view_module": "@jupyter-widgets/base",
            "_view_module_version": "1.2.0",
            "_view_name": "LayoutView",
            "align_content": null,
            "align_items": null,
            "align_self": null,
            "border": null,
            "bottom": null,
            "display": null,
            "flex": null,
            "flex_flow": null,
            "grid_area": null,
            "grid_auto_columns": null,
            "grid_auto_flow": null,
            "grid_auto_rows": null,
            "grid_column": null,
            "grid_gap": null,
            "grid_row": null,
            "grid_template_areas": null,
            "grid_template_columns": null,
            "grid_template_rows": null,
            "height": null,
            "justify_content": null,
            "justify_items": null,
            "left": null,
            "margin": null,
            "max_height": null,
            "max_width": null,
            "min_height": null,
            "min_width": null,
            "object_fit": null,
            "object_position": null,
            "order": null,
            "overflow": null,
            "overflow_x": null,
            "overflow_y": null,
            "padding": null,
            "right": null,
            "top": null,
            "visibility": null,
            "width": null
          }
        },
        "56db77c71fbe4f0b8e31c49302b68e31": {
          "model_module": "@jupyter-widgets/base",
          "model_name": "LayoutModel",
          "model_module_version": "1.2.0",
          "state": {
            "_model_module": "@jupyter-widgets/base",
            "_model_module_version": "1.2.0",
            "_model_name": "LayoutModel",
            "_view_count": null,
            "_view_module": "@jupyter-widgets/base",
            "_view_module_version": "1.2.0",
            "_view_name": "LayoutView",
            "align_content": null,
            "align_items": null,
            "align_self": null,
            "border": null,
            "bottom": null,
            "display": null,
            "flex": null,
            "flex_flow": null,
            "grid_area": null,
            "grid_auto_columns": null,
            "grid_auto_flow": null,
            "grid_auto_rows": null,
            "grid_column": null,
            "grid_gap": null,
            "grid_row": null,
            "grid_template_areas": null,
            "grid_template_columns": null,
            "grid_template_rows": null,
            "height": null,
            "justify_content": null,
            "justify_items": null,
            "left": null,
            "margin": null,
            "max_height": null,
            "max_width": null,
            "min_height": null,
            "min_width": null,
            "object_fit": null,
            "object_position": null,
            "order": null,
            "overflow": null,
            "overflow_x": null,
            "overflow_y": null,
            "padding": null,
            "right": null,
            "top": null,
            "visibility": null,
            "width": null
          }
        },
        "a613442ff76348c0b04e3a9131d67eab": {
          "model_module": "@jupyter-widgets/controls",
          "model_name": "DescriptionStyleModel",
          "model_module_version": "1.5.0",
          "state": {
            "_model_module": "@jupyter-widgets/controls",
            "_model_module_version": "1.5.0",
            "_model_name": "DescriptionStyleModel",
            "_view_count": null,
            "_view_module": "@jupyter-widgets/base",
            "_view_module_version": "1.2.0",
            "_view_name": "StyleView",
            "description_width": ""
          }
        },
        "c37d89d9b20f4ce9aac0b69ed8127a2e": {
          "model_module": "@jupyter-widgets/base",
          "model_name": "LayoutModel",
          "model_module_version": "1.2.0",
          "state": {
            "_model_module": "@jupyter-widgets/base",
            "_model_module_version": "1.2.0",
            "_model_name": "LayoutModel",
            "_view_count": null,
            "_view_module": "@jupyter-widgets/base",
            "_view_module_version": "1.2.0",
            "_view_name": "LayoutView",
            "align_content": null,
            "align_items": null,
            "align_self": null,
            "border": null,
            "bottom": null,
            "display": null,
            "flex": null,
            "flex_flow": null,
            "grid_area": null,
            "grid_auto_columns": null,
            "grid_auto_flow": null,
            "grid_auto_rows": null,
            "grid_column": null,
            "grid_gap": null,
            "grid_row": null,
            "grid_template_areas": null,
            "grid_template_columns": null,
            "grid_template_rows": null,
            "height": null,
            "justify_content": null,
            "justify_items": null,
            "left": null,
            "margin": null,
            "max_height": null,
            "max_width": null,
            "min_height": null,
            "min_width": null,
            "object_fit": null,
            "object_position": null,
            "order": null,
            "overflow": null,
            "overflow_x": null,
            "overflow_y": null,
            "padding": null,
            "right": null,
            "top": null,
            "visibility": null,
            "width": null
          }
        },
        "5e317ad93c2c4374b64783909c92d7af": {
          "model_module": "@jupyter-widgets/controls",
          "model_name": "ProgressStyleModel",
          "model_module_version": "1.5.0",
          "state": {
            "_model_module": "@jupyter-widgets/controls",
            "_model_module_version": "1.5.0",
            "_model_name": "ProgressStyleModel",
            "_view_count": null,
            "_view_module": "@jupyter-widgets/base",
            "_view_module_version": "1.2.0",
            "_view_name": "StyleView",
            "bar_color": null,
            "description_width": ""
          }
        },
        "6d84a9203d0f4da998e3d7ea3f97e6f9": {
          "model_module": "@jupyter-widgets/base",
          "model_name": "LayoutModel",
          "model_module_version": "1.2.0",
          "state": {
            "_model_module": "@jupyter-widgets/base",
            "_model_module_version": "1.2.0",
            "_model_name": "LayoutModel",
            "_view_count": null,
            "_view_module": "@jupyter-widgets/base",
            "_view_module_version": "1.2.0",
            "_view_name": "LayoutView",
            "align_content": null,
            "align_items": null,
            "align_self": null,
            "border": null,
            "bottom": null,
            "display": null,
            "flex": null,
            "flex_flow": null,
            "grid_area": null,
            "grid_auto_columns": null,
            "grid_auto_flow": null,
            "grid_auto_rows": null,
            "grid_column": null,
            "grid_gap": null,
            "grid_row": null,
            "grid_template_areas": null,
            "grid_template_columns": null,
            "grid_template_rows": null,
            "height": null,
            "justify_content": null,
            "justify_items": null,
            "left": null,
            "margin": null,
            "max_height": null,
            "max_width": null,
            "min_height": null,
            "min_width": null,
            "object_fit": null,
            "object_position": null,
            "order": null,
            "overflow": null,
            "overflow_x": null,
            "overflow_y": null,
            "padding": null,
            "right": null,
            "top": null,
            "visibility": null,
            "width": null
          }
        },
        "be2d3ff1614d49f393b388488638cac5": {
          "model_module": "@jupyter-widgets/controls",
          "model_name": "DescriptionStyleModel",
          "model_module_version": "1.5.0",
          "state": {
            "_model_module": "@jupyter-widgets/controls",
            "_model_module_version": "1.5.0",
            "_model_name": "DescriptionStyleModel",
            "_view_count": null,
            "_view_module": "@jupyter-widgets/base",
            "_view_module_version": "1.2.0",
            "_view_name": "StyleView",
            "description_width": ""
          }
        },
        "c0acbc0cef8643a988bd258abe81fdc3": {
          "model_module": "@jupyter-widgets/controls",
          "model_name": "HBoxModel",
          "model_module_version": "1.5.0",
          "state": {
            "_dom_classes": [],
            "_model_module": "@jupyter-widgets/controls",
            "_model_module_version": "1.5.0",
            "_model_name": "HBoxModel",
            "_view_count": null,
            "_view_module": "@jupyter-widgets/controls",
            "_view_module_version": "1.5.0",
            "_view_name": "HBoxView",
            "box_style": "",
            "children": [
              "IPY_MODEL_5ad20eece86c4e43a0c31f8623494840",
              "IPY_MODEL_25c91d1d25b945f2a773e3115033f142",
              "IPY_MODEL_08a6e4b3449545749136ab374a1e8ed2"
            ],
            "layout": "IPY_MODEL_e65f7dde334b4c46a2d5ff3fb1e0b790"
          }
        },
        "5ad20eece86c4e43a0c31f8623494840": {
          "model_module": "@jupyter-widgets/controls",
          "model_name": "HTMLModel",
          "model_module_version": "1.5.0",
          "state": {
            "_dom_classes": [],
            "_model_module": "@jupyter-widgets/controls",
            "_model_module_version": "1.5.0",
            "_model_name": "HTMLModel",
            "_view_count": null,
            "_view_module": "@jupyter-widgets/controls",
            "_view_module_version": "1.5.0",
            "_view_name": "HTMLView",
            "description": "",
            "description_tooltip": null,
            "layout": "IPY_MODEL_852aa89c253f458284fcf54042435f53",
            "placeholder": "​",
            "style": "IPY_MODEL_4537162f14a245f7bc23db2ad502702d",
            "value": "special_tokens_map.json: 100%"
          }
        },
        "25c91d1d25b945f2a773e3115033f142": {
          "model_module": "@jupyter-widgets/controls",
          "model_name": "FloatProgressModel",
          "model_module_version": "1.5.0",
          "state": {
            "_dom_classes": [],
            "_model_module": "@jupyter-widgets/controls",
            "_model_module_version": "1.5.0",
            "_model_name": "FloatProgressModel",
            "_view_count": null,
            "_view_module": "@jupyter-widgets/controls",
            "_view_module_version": "1.5.0",
            "_view_name": "ProgressView",
            "bar_style": "success",
            "description": "",
            "description_tooltip": null,
            "layout": "IPY_MODEL_6ab129fa300346cbb83954e214d90920",
            "max": 112,
            "min": 0,
            "orientation": "horizontal",
            "style": "IPY_MODEL_0c454c0194a44bffb1aaf192e675548e",
            "value": 112
          }
        },
        "08a6e4b3449545749136ab374a1e8ed2": {
          "model_module": "@jupyter-widgets/controls",
          "model_name": "HTMLModel",
          "model_module_version": "1.5.0",
          "state": {
            "_dom_classes": [],
            "_model_module": "@jupyter-widgets/controls",
            "_model_module_version": "1.5.0",
            "_model_name": "HTMLModel",
            "_view_count": null,
            "_view_module": "@jupyter-widgets/controls",
            "_view_module_version": "1.5.0",
            "_view_name": "HTMLView",
            "description": "",
            "description_tooltip": null,
            "layout": "IPY_MODEL_195766fbdb03432a975c5ef87ddddb63",
            "placeholder": "​",
            "style": "IPY_MODEL_41fb3e8088fe490b95b4f584e1cbb9b0",
            "value": " 112/112 [00:00&lt;00:00, 2.75kB/s]"
          }
        },
        "e65f7dde334b4c46a2d5ff3fb1e0b790": {
          "model_module": "@jupyter-widgets/base",
          "model_name": "LayoutModel",
          "model_module_version": "1.2.0",
          "state": {
            "_model_module": "@jupyter-widgets/base",
            "_model_module_version": "1.2.0",
            "_model_name": "LayoutModel",
            "_view_count": null,
            "_view_module": "@jupyter-widgets/base",
            "_view_module_version": "1.2.0",
            "_view_name": "LayoutView",
            "align_content": null,
            "align_items": null,
            "align_self": null,
            "border": null,
            "bottom": null,
            "display": null,
            "flex": null,
            "flex_flow": null,
            "grid_area": null,
            "grid_auto_columns": null,
            "grid_auto_flow": null,
            "grid_auto_rows": null,
            "grid_column": null,
            "grid_gap": null,
            "grid_row": null,
            "grid_template_areas": null,
            "grid_template_columns": null,
            "grid_template_rows": null,
            "height": null,
            "justify_content": null,
            "justify_items": null,
            "left": null,
            "margin": null,
            "max_height": null,
            "max_width": null,
            "min_height": null,
            "min_width": null,
            "object_fit": null,
            "object_position": null,
            "order": null,
            "overflow": null,
            "overflow_x": null,
            "overflow_y": null,
            "padding": null,
            "right": null,
            "top": null,
            "visibility": null,
            "width": null
          }
        },
        "852aa89c253f458284fcf54042435f53": {
          "model_module": "@jupyter-widgets/base",
          "model_name": "LayoutModel",
          "model_module_version": "1.2.0",
          "state": {
            "_model_module": "@jupyter-widgets/base",
            "_model_module_version": "1.2.0",
            "_model_name": "LayoutModel",
            "_view_count": null,
            "_view_module": "@jupyter-widgets/base",
            "_view_module_version": "1.2.0",
            "_view_name": "LayoutView",
            "align_content": null,
            "align_items": null,
            "align_self": null,
            "border": null,
            "bottom": null,
            "display": null,
            "flex": null,
            "flex_flow": null,
            "grid_area": null,
            "grid_auto_columns": null,
            "grid_auto_flow": null,
            "grid_auto_rows": null,
            "grid_column": null,
            "grid_gap": null,
            "grid_row": null,
            "grid_template_areas": null,
            "grid_template_columns": null,
            "grid_template_rows": null,
            "height": null,
            "justify_content": null,
            "justify_items": null,
            "left": null,
            "margin": null,
            "max_height": null,
            "max_width": null,
            "min_height": null,
            "min_width": null,
            "object_fit": null,
            "object_position": null,
            "order": null,
            "overflow": null,
            "overflow_x": null,
            "overflow_y": null,
            "padding": null,
            "right": null,
            "top": null,
            "visibility": null,
            "width": null
          }
        },
        "4537162f14a245f7bc23db2ad502702d": {
          "model_module": "@jupyter-widgets/controls",
          "model_name": "DescriptionStyleModel",
          "model_module_version": "1.5.0",
          "state": {
            "_model_module": "@jupyter-widgets/controls",
            "_model_module_version": "1.5.0",
            "_model_name": "DescriptionStyleModel",
            "_view_count": null,
            "_view_module": "@jupyter-widgets/base",
            "_view_module_version": "1.2.0",
            "_view_name": "StyleView",
            "description_width": ""
          }
        },
        "6ab129fa300346cbb83954e214d90920": {
          "model_module": "@jupyter-widgets/base",
          "model_name": "LayoutModel",
          "model_module_version": "1.2.0",
          "state": {
            "_model_module": "@jupyter-widgets/base",
            "_model_module_version": "1.2.0",
            "_model_name": "LayoutModel",
            "_view_count": null,
            "_view_module": "@jupyter-widgets/base",
            "_view_module_version": "1.2.0",
            "_view_name": "LayoutView",
            "align_content": null,
            "align_items": null,
            "align_self": null,
            "border": null,
            "bottom": null,
            "display": null,
            "flex": null,
            "flex_flow": null,
            "grid_area": null,
            "grid_auto_columns": null,
            "grid_auto_flow": null,
            "grid_auto_rows": null,
            "grid_column": null,
            "grid_gap": null,
            "grid_row": null,
            "grid_template_areas": null,
            "grid_template_columns": null,
            "grid_template_rows": null,
            "height": null,
            "justify_content": null,
            "justify_items": null,
            "left": null,
            "margin": null,
            "max_height": null,
            "max_width": null,
            "min_height": null,
            "min_width": null,
            "object_fit": null,
            "object_position": null,
            "order": null,
            "overflow": null,
            "overflow_x": null,
            "overflow_y": null,
            "padding": null,
            "right": null,
            "top": null,
            "visibility": null,
            "width": null
          }
        },
        "0c454c0194a44bffb1aaf192e675548e": {
          "model_module": "@jupyter-widgets/controls",
          "model_name": "ProgressStyleModel",
          "model_module_version": "1.5.0",
          "state": {
            "_model_module": "@jupyter-widgets/controls",
            "_model_module_version": "1.5.0",
            "_model_name": "ProgressStyleModel",
            "_view_count": null,
            "_view_module": "@jupyter-widgets/base",
            "_view_module_version": "1.2.0",
            "_view_name": "StyleView",
            "bar_color": null,
            "description_width": ""
          }
        },
        "195766fbdb03432a975c5ef87ddddb63": {
          "model_module": "@jupyter-widgets/base",
          "model_name": "LayoutModel",
          "model_module_version": "1.2.0",
          "state": {
            "_model_module": "@jupyter-widgets/base",
            "_model_module_version": "1.2.0",
            "_model_name": "LayoutModel",
            "_view_count": null,
            "_view_module": "@jupyter-widgets/base",
            "_view_module_version": "1.2.0",
            "_view_name": "LayoutView",
            "align_content": null,
            "align_items": null,
            "align_self": null,
            "border": null,
            "bottom": null,
            "display": null,
            "flex": null,
            "flex_flow": null,
            "grid_area": null,
            "grid_auto_columns": null,
            "grid_auto_flow": null,
            "grid_auto_rows": null,
            "grid_column": null,
            "grid_gap": null,
            "grid_row": null,
            "grid_template_areas": null,
            "grid_template_columns": null,
            "grid_template_rows": null,
            "height": null,
            "justify_content": null,
            "justify_items": null,
            "left": null,
            "margin": null,
            "max_height": null,
            "max_width": null,
            "min_height": null,
            "min_width": null,
            "object_fit": null,
            "object_position": null,
            "order": null,
            "overflow": null,
            "overflow_x": null,
            "overflow_y": null,
            "padding": null,
            "right": null,
            "top": null,
            "visibility": null,
            "width": null
          }
        },
        "41fb3e8088fe490b95b4f584e1cbb9b0": {
          "model_module": "@jupyter-widgets/controls",
          "model_name": "DescriptionStyleModel",
          "model_module_version": "1.5.0",
          "state": {
            "_model_module": "@jupyter-widgets/controls",
            "_model_module_version": "1.5.0",
            "_model_name": "DescriptionStyleModel",
            "_view_count": null,
            "_view_module": "@jupyter-widgets/base",
            "_view_module_version": "1.2.0",
            "_view_name": "StyleView",
            "description_width": ""
          }
        }
      }
    }
  },
  "cells": [
    {
      "cell_type": "markdown",
      "metadata": {
        "id": "view-in-github",
        "colab_type": "text"
      },
      "source": [
        "<a href=\"https://colab.research.google.com/github/avivavraham/nintex_assignment/blob/main/sentiment_analysis_nintex_interview_with_Aviv.ipynb\" target=\"_parent\"><img src=\"https://colab.research.google.com/assets/colab-badge.svg\" alt=\"Open In Colab\"/></a>"
      ]
    },
    {
      "cell_type": "markdown",
      "source": [
        "# Sentiment Analysis of Crocs Product Reviews\n",
        "\n",
        "This notebook explores the sentiment of customer reviews for Crocs using various techniques. Following sections detail the code implementation:\n",
        "\n",
        "\n"
      ],
      "metadata": {
        "id": "5JkVBL4lbk4D"
      }
    },
    {
      "cell_type": "markdown",
      "source": [
        "## 1. Preparations\n",
        "\n",
        "\n",
        "\n"
      ],
      "metadata": {
        "id": "KcGx5tC_fnHW"
      }
    },
    {
      "cell_type": "markdown",
      "source": [
        "### Import libraries"
      ],
      "metadata": {
        "id": "t1d7OneNW87T"
      }
    },
    {
      "cell_type": "code",
      "source": [
        "import pandas as pd\n",
        "import matplotlib.pyplot as plt\n",
        "import seaborn as sns\n",
        "from transformers import pipeline\n",
        "import re"
      ],
      "metadata": {
        "id": "sf-A-xqIfzIq"
      },
      "execution_count": 2,
      "outputs": []
    },
    {
      "cell_type": "markdown",
      "source": [
        "### load the data set from Kaggle: [Crocs Product Reviews](https://www.kaggle.com/datasets/chandlerunderwood/crocs-clog-reviews/data)"
      ],
      "metadata": {
        "id": "iRh4nG3Mf8Pa"
      }
    },
    {
      "cell_type": "code",
      "source": [
        "# Load the dataset\n",
        "df = pd.read_csv(\"/content/croc_reviews.csv\", index_col=\"id\")"
      ],
      "metadata": {
        "id": "22Gf9RAIcyPW"
      },
      "execution_count": 72,
      "outputs": []
    },
    {
      "cell_type": "markdown",
      "source": [
        "### install architecture from Hugging Face"
      ],
      "metadata": {
        "id": "YXdvzaqygeJA"
      }
    },
    {
      "cell_type": "code",
      "execution_count": 4,
      "metadata": {
        "colab": {
          "base_uri": "https://localhost:8080/"
        },
        "id": "KtMcNJ0eLvK5",
        "outputId": "b9bacf48-0f6f-46f7-84ac-03464e41fada"
      },
      "outputs": [
        {
          "output_type": "stream",
          "name": "stdout",
          "text": [
            "Requirement already satisfied: transformers in /usr/local/lib/python3.10/dist-packages (4.38.1)\n",
            "Requirement already satisfied: filelock in /usr/local/lib/python3.10/dist-packages (from transformers) (3.13.1)\n",
            "Requirement already satisfied: huggingface-hub<1.0,>=0.19.3 in /usr/local/lib/python3.10/dist-packages (from transformers) (0.20.3)\n",
            "Requirement already satisfied: numpy>=1.17 in /usr/local/lib/python3.10/dist-packages (from transformers) (1.25.2)\n",
            "Requirement already satisfied: packaging>=20.0 in /usr/local/lib/python3.10/dist-packages (from transformers) (23.2)\n",
            "Requirement already satisfied: pyyaml>=5.1 in /usr/local/lib/python3.10/dist-packages (from transformers) (6.0.1)\n",
            "Requirement already satisfied: regex!=2019.12.17 in /usr/local/lib/python3.10/dist-packages (from transformers) (2023.12.25)\n",
            "Requirement already satisfied: requests in /usr/local/lib/python3.10/dist-packages (from transformers) (2.31.0)\n",
            "Requirement already satisfied: tokenizers<0.19,>=0.14 in /usr/local/lib/python3.10/dist-packages (from transformers) (0.15.2)\n",
            "Requirement already satisfied: safetensors>=0.4.1 in /usr/local/lib/python3.10/dist-packages (from transformers) (0.4.2)\n",
            "Requirement already satisfied: tqdm>=4.27 in /usr/local/lib/python3.10/dist-packages (from transformers) (4.66.2)\n",
            "Requirement already satisfied: fsspec>=2023.5.0 in /usr/local/lib/python3.10/dist-packages (from huggingface-hub<1.0,>=0.19.3->transformers) (2023.6.0)\n",
            "Requirement already satisfied: typing-extensions>=3.7.4.3 in /usr/local/lib/python3.10/dist-packages (from huggingface-hub<1.0,>=0.19.3->transformers) (4.10.0)\n",
            "Requirement already satisfied: charset-normalizer<4,>=2 in /usr/local/lib/python3.10/dist-packages (from requests->transformers) (3.3.2)\n",
            "Requirement already satisfied: idna<4,>=2.5 in /usr/local/lib/python3.10/dist-packages (from requests->transformers) (3.6)\n",
            "Requirement already satisfied: urllib3<3,>=1.21.1 in /usr/local/lib/python3.10/dist-packages (from requests->transformers) (2.0.7)\n",
            "Requirement already satisfied: certifi>=2017.4.17 in /usr/local/lib/python3.10/dist-packages (from requests->transformers) (2024.2.2)\n"
          ]
        }
      ],
      "source": [
        "! pip install transformers"
      ]
    },
    {
      "cell_type": "markdown",
      "source": [
        "## 2. EDA\n"
      ],
      "metadata": {
        "id": "qqTlC8Yhg5gM"
      }
    },
    {
      "cell_type": "markdown",
      "source": [
        "### Data Overview"
      ],
      "metadata": {
        "id": "xVBwsO7DhJ4O"
      }
    },
    {
      "cell_type": "code",
      "source": [
        "print(df.info())"
      ],
      "metadata": {
        "colab": {
          "base_uri": "https://localhost:8080/"
        },
        "id": "zogXVlKUg_eX",
        "outputId": "0dcad868-dbcf-4f2e-b906-527426c3dda8"
      },
      "execution_count": 5,
      "outputs": [
        {
          "output_type": "stream",
          "name": "stdout",
          "text": [
            "<class 'pandas.core.frame.DataFrame'>\n",
            "Index: 9238 entries, croc_review_0 to croc_review_9127\n",
            "Data columns (total 3 columns):\n",
            " #   Column  Non-Null Count  Dtype  \n",
            "---  ------  --------------  -----  \n",
            " 0   review  9238 non-null   object \n",
            " 1   date    9238 non-null   object \n",
            " 2   rating  9238 non-null   float64\n",
            "dtypes: float64(1), object(2)\n",
            "memory usage: 288.7+ KB\n",
            "None\n"
          ]
        }
      ]
    },
    {
      "cell_type": "code",
      "source": [
        "print(df.head(3).to_string(max_colwidth=100))"
      ],
      "metadata": {
        "colab": {
          "base_uri": "https://localhost:8080/"
        },
        "id": "Dkn_9CFdiSyI",
        "outputId": "8d4c5257-aa9a-41a8-aa49-45bceb29f11d"
      },
      "execution_count": 6,
      "outputs": [
        {
          "output_type": "stream",
          "name": "stdout",
          "text": [
            "                                                                                                            review            date  rating\n",
            "id                                                                                                                                        \n",
            "croc_review_0                                                                   !!!!!! E X C E L L E N T!!!!!!!!!!   April 7, 2022     5.0\n",
            "croc_review_1                                                         \"They're crocs; people know what crocs are.\"   April 3, 2021     5.0\n",
            "croc_review_2  - Quick delivery and the product arrived when the company said it would. - First pair of Crocs, ...  March 19, 2023     5.0\n"
          ]
        }
      ]
    },
    {
      "cell_type": "markdown",
      "source": [
        "###  2.1. Descriptive Statistics for the ratings:"
      ],
      "metadata": {
        "id": "TjXOnXZzhPKt"
      }
    },
    {
      "cell_type": "code",
      "source": [
        "print(df.describe())"
      ],
      "metadata": {
        "colab": {
          "base_uri": "https://localhost:8080/"
        },
        "id": "gQ_-q_J7hRzt",
        "outputId": "531db9e1-ddc2-4e64-d8d1-cfa09240076b"
      },
      "execution_count": 7,
      "outputs": [
        {
          "output_type": "stream",
          "name": "stdout",
          "text": [
            "            rating\n",
            "count  9238.000000\n",
            "mean      4.619182\n",
            "std       0.980280\n",
            "min       1.000000\n",
            "25%       5.000000\n",
            "50%       5.000000\n",
            "75%       5.000000\n",
            "max       5.000000\n"
          ]
        }
      ]
    },
    {
      "cell_type": "code",
      "source": [
        "# Distribution Analysis\n",
        "ax = df['rating'].value_counts().sort_index().plot(\n",
        "    kind='bar',\n",
        "    title= 'Count of reviews by stars',\n",
        "    figsize = (10,6)\n",
        ")\n",
        "ax.set_xlabel('Review Stars')\n",
        "plt.show()"
      ],
      "metadata": {
        "colab": {
          "base_uri": "https://localhost:8080/",
          "height": 572
        },
        "id": "8msLl8M5nXcc",
        "outputId": "759c2b43-c4e8-4b45-d7bc-57eb98a9fdd0"
      },
      "execution_count": 8,
      "outputs": [
        {
          "output_type": "display_data",
          "data": {
            "text/plain": [
              "<Figure size 1000x600 with 1 Axes>"
            ],
            "image/png": "[encoded data removed]"
          },
          "metadata": {}
        }
      ]
    },
    {
      "cell_type": "code",
      "source": [
        "sns.displot(df[\"rating\"], kde=True)  # Combining histogram and density plot\n",
        "plt.title(\"Distribution of Ratings\")\n",
        "plt.show()"
      ],
      "metadata": {
        "colab": {
          "base_uri": "https://localhost:8080/",
          "height": 526
        },
        "id": "uc4kxzZkmPpW",
        "outputId": "62c5cea9-5b13-44ce-8738-eba9e918f67f"
      },
      "execution_count": 9,
      "outputs": [
        {
          "output_type": "display_data",
          "data": {
            "text/plain": [
              "<Figure size 500x500 with 1 Axes>"
            ],
            "image/png": "[encoded data removed]"
          },
          "metadata": {}
        }
      ]
    },
    {
      "cell_type": "code",
      "source": [
        "# **Calculate and store descriptive statistics for the \"rating\" column**\n",
        "rating_stats = df[\"rating\"].describe()\n",
        "# Central Tendency Analysis\n",
        "print(\"Mean:\", rating_stats[\"mean\"])\n",
        "print(\"Median:\", rating_stats[\"50%\"])\n",
        "# Calculate and print mode\n",
        "print(\"Mode:\", df[\"rating\"].mode()[0])"
      ],
      "metadata": {
        "colab": {
          "base_uri": "https://localhost:8080/"
        },
        "id": "c2UsqthemU_x",
        "outputId": "a5024313-cac3-46c5-de33-04822e0745b0"
      },
      "execution_count": 10,
      "outputs": [
        {
          "output_type": "stream",
          "name": "stdout",
          "text": [
            "Mean: 4.619181641047846\n",
            "Median: 5.0\n",
            "Mode: 5.0\n"
          ]
        }
      ]
    },
    {
      "cell_type": "code",
      "source": [
        "# Dispersion Analysis\n",
        "print(\"Standard Deviation:\", rating_stats[\"std\"])\n",
        "print(\"Interquartile Range (IQR):\", df[\"rating\"].quantile(0.75) - df[\"rating\"].quantile(0.25))"
      ],
      "metadata": {
        "colab": {
          "base_uri": "https://localhost:8080/"
        },
        "id": "be1hpJ0SmZ-a",
        "outputId": "8d64d04b-f2d0-46c4-fc6a-294d3ffdd758"
      },
      "execution_count": 11,
      "outputs": [
        {
          "output_type": "stream",
          "name": "stdout",
          "text": [
            "Standard Deviation: 0.9802797914611286\n",
            "Interquartile Range (IQR): 0.0\n"
          ]
        }
      ]
    },
    {
      "cell_type": "code",
      "source": [
        "# Get the counts for each rating value\n",
        "rating_counts = df[\"rating\"].value_counts().sort_index()\n",
        "\n",
        "# Calculate total number of reviews\n",
        "total_reviews = len(df)\n",
        "\n",
        "# Print results in a formatted way\n",
        "print(\"Rating | Count | Percentage\")\n",
        "print(\"-------|-------|------------\")\n",
        "for rating, count in rating_counts.items():\n",
        "  # Calculate percentage as a string with two decimal places\n",
        "  percentage = round((count / total_reviews) * 100, 2)\n",
        "  print(f\"{rating} | {count} | {percentage}%\")"
      ],
      "metadata": {
        "colab": {
          "base_uri": "https://localhost:8080/"
        },
        "id": "TAWJmJIzoA4x",
        "outputId": "83e8eaeb-bd72-40c8-86f9-92311c91d228"
      },
      "execution_count": 12,
      "outputs": [
        {
          "output_type": "stream",
          "name": "stdout",
          "text": [
            "Rating | Count | Percentage\n",
            "-------|-------|------------\n",
            "1.0 | 398 | 4.31%\n",
            "2.0 | 201 | 2.18%\n",
            "3.0 | 358 | 3.88%\n",
            "4.0 | 607 | 6.57%\n",
            "5.0 | 7674 | 83.07%\n"
          ]
        }
      ]
    },
    {
      "cell_type": "markdown",
      "source": [
        "Looking at the ratings, it's clear that most people (over 83%) gave the product 5 stars. This is a good sign, as successful products often receive high marks. However, it's important to remember that people sometimes tend to give more extreme ratings, either very positive or very negative. While the low number of 1-star ratings is positive, there's always a possibility that the data might be skewed towards more positive reviews."
      ],
      "metadata": {
        "id": "qFTO55uPnv_j"
      }
    },
    {
      "cell_type": "markdown",
      "source": [
        "###  2.2. Descriptive Statistics for the date feature:"
      ],
      "metadata": {
        "id": "dp93bZywrGGv"
      }
    },
    {
      "cell_type": "code",
      "source": [
        "# 2. Convert to Datetime Format\n",
        "df[\"datetime\"] = pd.to_datetime(df[\"date\"])"
      ],
      "metadata": {
        "id": "INwSHPUZslgz"
      },
      "execution_count": 13,
      "outputs": []
    },
    {
      "cell_type": "code",
      "source": [
        "# 3. Descriptive Statistics on Date Components\n",
        "year_stats = df[\"datetime\"].dt.year.describe()\n",
        "month_stats = df[\"datetime\"].dt.month.describe()\n",
        "day_stats = df[\"datetime\"].dt.day.describe()"
      ],
      "metadata": {
        "id": "m09D5MRisqIe"
      },
      "execution_count": 14,
      "outputs": []
    },
    {
      "cell_type": "code",
      "source": [
        "# Print statistics\n",
        "print(\"\\nYear:\")\n",
        "print(year_stats)\n",
        "\n",
        "print(\"\\nMonth:\")\n",
        "print(month_stats)\n",
        "\n",
        "print(\"\\nDay:\")\n",
        "print(day_stats)"
      ],
      "metadata": {
        "colab": {
          "base_uri": "https://localhost:8080/"
        },
        "id": "aofAINMNstbt",
        "outputId": "9dac47d3-366e-44dc-fa1e-fc7cf44395dc"
      },
      "execution_count": 15,
      "outputs": [
        {
          "output_type": "stream",
          "name": "stdout",
          "text": [
            "\n",
            "Year:\n",
            "count    9238.000000\n",
            "mean     2021.168976\n",
            "std         2.040810\n",
            "min      2005.000000\n",
            "25%      2021.000000\n",
            "50%      2021.000000\n",
            "75%      2022.000000\n",
            "max      2023.000000\n",
            "Name: datetime, dtype: float64\n",
            "\n",
            "Month:\n",
            "count    9238.000000\n",
            "mean        6.224291\n",
            "std         3.067309\n",
            "min         1.000000\n",
            "25%         4.000000\n",
            "50%         6.000000\n",
            "75%         8.000000\n",
            "max        12.000000\n",
            "Name: datetime, dtype: float64\n",
            "\n",
            "Day:\n",
            "count    9238.000000\n",
            "mean       15.561485\n",
            "std         8.886888\n",
            "min         1.000000\n",
            "25%         8.000000\n",
            "50%        16.000000\n",
            "75%        23.000000\n",
            "max        31.000000\n",
            "Name: datetime, dtype: float64\n"
          ]
        }
      ]
    },
    {
      "cell_type": "code",
      "source": [
        "# Visualization Histogram of year distribution\n",
        "plt.hist(df[\"datetime\"].dt.year)\n",
        "plt.xlabel(\"Year\")\n",
        "plt.ylabel(\"Number of Data Points\")\n",
        "plt.title(\"Distribution of Years\")\n",
        "plt.show()"
      ],
      "metadata": {
        "colab": {
          "base_uri": "https://localhost:8080/",
          "height": 472
        },
        "id": "vYRZckcltBTk",
        "outputId": "3ada512f-f23e-40df-b490-de2b5610bd8c"
      },
      "execution_count": 16,
      "outputs": [
        {
          "output_type": "display_data",
          "data": {
            "text/plain": [
              "<Figure size 640x480 with 1 Axes>"
            ],
            "image/png": "[encoded data removed]"
          },
          "metadata": {}
        }
      ]
    },
    {
      "cell_type": "code",
      "source": [
        "# Histogram of month distribution\n",
        "plt.hist(df[\"datetime\"].dt.month)\n",
        "plt.xlabel(\"Month\")\n",
        "plt.ylabel(\"Number of Data Points\")\n",
        "plt.title(\"Distribution of Months\")\n",
        "plt.show()"
      ],
      "metadata": {
        "colab": {
          "base_uri": "https://localhost:8080/",
          "height": 472
        },
        "id": "fXy1sX31ttAe",
        "outputId": "67cbac71-3c10-41c1-88ef-2435944d7fbf"
      },
      "execution_count": 17,
      "outputs": [
        {
          "output_type": "display_data",
          "data": {
            "text/plain": [
              "<Figure size 640x480 with 1 Axes>"
            ],
            "image/png": "[encoded data removed]"
          },
          "metadata": {}
        }
      ]
    },
    {
      "cell_type": "code",
      "source": [
        "# Histogram of day distribution\n",
        "plt.hist(df[\"datetime\"].dt.day)\n",
        "plt.xlabel(\"Day\")\n",
        "plt.ylabel(\"Number of Data Points\")\n",
        "plt.title(\"Distribution of Days\")\n",
        "plt.show()"
      ],
      "metadata": {
        "colab": {
          "base_uri": "https://localhost:8080/",
          "height": 472
        },
        "id": "QZkiQcTJt0ZU",
        "outputId": "b4416a5c-a8cf-423e-bced-45b1c5114daf"
      },
      "execution_count": 18,
      "outputs": [
        {
          "output_type": "display_data",
          "data": {
            "text/plain": [
              "<Figure size 640x480 with 1 Axes>"
            ],
            "image/png": "[encoded data removed]"
          },
          "metadata": {}
        }
      ]
    },
    {
      "cell_type": "code",
      "source": [
        "# Count of data points per year\n",
        "year_counts = df[\"datetime\"].dt.year.value_counts().sort_index()\n",
        "\n",
        "# Print the year-wise count\n",
        "print(\"\\nCount of Data Points per Year:\")\n",
        "print(year_counts)"
      ],
      "metadata": {
        "colab": {
          "base_uri": "https://localhost:8080/"
        },
        "id": "ZCCsDSCpt8p7",
        "outputId": "ab356774-e0ec-4578-f76f-7ff54ef75602"
      },
      "execution_count": 19,
      "outputs": [
        {
          "output_type": "stream",
          "name": "stdout",
          "text": [
            "\n",
            "Count of Data Points per Year:\n",
            "2005       3\n",
            "2006      42\n",
            "2007       1\n",
            "2008       2\n",
            "2010       6\n",
            "2011      97\n",
            "2012     113\n",
            "2013       9\n",
            "2014       5\n",
            "2015       8\n",
            "2016      11\n",
            "2017       7\n",
            "2018       4\n",
            "2019      30\n",
            "2020      41\n",
            "2021    5190\n",
            "2022    2655\n",
            "2023    1014\n",
            "Name: datetime, dtype: int64\n"
          ]
        }
      ]
    },
    {
      "cell_type": "markdown",
      "source": [
        "Our initial analysis revealed that a significant portion of the data falls within the years 2021, 2022, and 2023. Therefore, to focus on the most recent information and potentially improve the accuracy of our conclusions, we will be focusing our analysis on data points from these specific years."
      ],
      "metadata": {
        "id": "CZniyzhr1141"
      }
    },
    {
      "cell_type": "code",
      "source": [
        "# Filter data for years 2021, 2022, and 2023\n",
        "df_filtered = df[df['datetime'].dt.year.isin([2021, 2022, 2023])]\n",
        "print(df_filtered.info())\n",
        "print(df_filtered.describe())"
      ],
      "metadata": {
        "colab": {
          "base_uri": "https://localhost:8080/"
        },
        "id": "i14xsz5luyyz",
        "outputId": "05070a3d-eb2b-40e0-8803-aa25bdd41742"
      },
      "execution_count": 20,
      "outputs": [
        {
          "output_type": "stream",
          "name": "stdout",
          "text": [
            "<class 'pandas.core.frame.DataFrame'>\n",
            "Index: 8859 entries, croc_review_0 to croc_review_9127\n",
            "Data columns (total 4 columns):\n",
            " #   Column    Non-Null Count  Dtype         \n",
            "---  ------    --------------  -----         \n",
            " 0   review    8859 non-null   object        \n",
            " 1   date      8859 non-null   object        \n",
            " 2   rating    8859 non-null   float64       \n",
            " 3   datetime  8859 non-null   datetime64[ns]\n",
            "dtypes: datetime64[ns](1), float64(1), object(2)\n",
            "memory usage: 346.1+ KB\n",
            "None\n",
            "            rating\n",
            "count  8859.000000\n",
            "mean      4.619822\n",
            "std       0.984960\n",
            "min       1.000000\n",
            "25%       5.000000\n",
            "50%       5.000000\n",
            "75%       5.000000\n",
            "max       5.000000\n"
          ]
        }
      ]
    },
    {
      "cell_type": "code",
      "source": [
        "# Get the counts for each rating value\n",
        "rating_counts = df_filtered[\"rating\"].value_counts().sort_index()\n",
        "\n",
        "# Calculate total number of reviews\n",
        "total_reviews = len(df_filtered)\n",
        "\n",
        "# Print results in a formatted way\n",
        "print(\"Rating | Count | Percentage\")\n",
        "print(\"-------|-------|------------\")\n",
        "for rating, count in rating_counts.items():\n",
        "  # Calculate percentage as a string with two decimal places\n",
        "  percentage = round((count / total_reviews) * 100, 2)\n",
        "  print(f\"{rating} | {count} | {percentage}%\")"
      ],
      "metadata": {
        "colab": {
          "base_uri": "https://localhost:8080/"
        },
        "id": "_OEn0Gmu2sgt",
        "outputId": "86226c8a-9e93-4aca-e52c-ef68047cef19"
      },
      "execution_count": 21,
      "outputs": [
        {
          "output_type": "stream",
          "name": "stdout",
          "text": [
            "Rating | Count | Percentage\n",
            "-------|-------|------------\n",
            "1.0 | 390 | 4.4%\n",
            "2.0 | 190 | 2.14%\n",
            "3.0 | 343 | 3.87%\n",
            "4.0 | 552 | 6.23%\n",
            "5.0 | 7384 | 83.35%\n"
          ]
        }
      ]
    },
    {
      "cell_type": "markdown",
      "source": [
        "As we can see we get similar results in the filtered data."
      ],
      "metadata": {
        "id": "jH-dchR424ZD"
      }
    },
    {
      "cell_type": "markdown",
      "source": [
        "###  2.3. Descriptive Statistics for the reviews:"
      ],
      "metadata": {
        "id": "Qrd4PLEk3G78"
      }
    },
    {
      "cell_type": "code",
      "source": [
        "# 1. Check Data Type and Missing Values:\n",
        "print(\"Data type:\", df_filtered[\"review\"].dtype)\n",
        "print(\"Number of missing values:\", df_filtered[\"review\"].isnull().sum())"
      ],
      "metadata": {
        "colab": {
          "base_uri": "https://localhost:8080/"
        },
        "id": "vWWlZm3c3mke",
        "outputId": "0d970d7c-e10b-4a86-d1bb-9da64af44008"
      },
      "execution_count": 22,
      "outputs": [
        {
          "output_type": "stream",
          "name": "stdout",
          "text": [
            "Data type: object\n",
            "Number of missing values: 0\n"
          ]
        }
      ]
    },
    {
      "cell_type": "code",
      "source": [
        "# 2. Character Count:\n",
        "print(\"\\nCharacter count:\")\n",
        "print(f\"Minimum characters: {df_filtered['review'].str.len().min()}\")\n",
        "print(f\"Maximum characters: {df_filtered['review'].str.len().max()}\")\n",
        "print(f\"Average characters: {df_filtered['review'].str.len().mean():.2f}\")"
      ],
      "metadata": {
        "colab": {
          "base_uri": "https://localhost:8080/"
        },
        "id": "IJyrojGI51JM",
        "outputId": "9aac52a4-470a-4dd5-8213-1d53e29803ea"
      },
      "execution_count": 23,
      "outputs": [
        {
          "output_type": "stream",
          "name": "stdout",
          "text": [
            "\n",
            "Character count:\n",
            "Minimum characters: 21\n",
            "Maximum characters: 1741\n",
            "Average characters: 117.08\n"
          ]
        }
      ]
    },
    {
      "cell_type": "code",
      "source": [
        "# 3. Word Count:\n",
        "print(\"\\nWord count:\")\n",
        "print(f\"Minimum words: {df_filtered['review'].str.split().str.len().min()}\")\n",
        "print(f\"Maximum words: {df_filtered['review'].str.split().str.len().max()}\")\n",
        "print(f\"Average words: {df_filtered['review'].str.split().str.len().mean():.2f}\")"
      ],
      "metadata": {
        "colab": {
          "base_uri": "https://localhost:8080/"
        },
        "id": "pZCBeAMz57QC",
        "outputId": "5e9b17f6-c15f-42ac-d196-96b9d444ea5a"
      },
      "execution_count": 24,
      "outputs": [
        {
          "output_type": "stream",
          "name": "stdout",
          "text": [
            "\n",
            "Word count:\n",
            "Minimum words: 5\n",
            "Maximum words: 329\n",
            "Average words: 22.62\n"
          ]
        }
      ]
    },
    {
      "cell_type": "code",
      "source": [
        "# 4. Unique Words:\n",
        "print(\"\\nUnique words:\")\n",
        "all_words = \" \".join(df_filtered[\"review\"].dropna())  # Combine all non-missing reviews for analysis\n",
        "unique_word_count = len(set(all_words.split()))  # Count unique words\n",
        "print(f\"Total unique words: {unique_word_count}\")"
      ],
      "metadata": {
        "colab": {
          "base_uri": "https://localhost:8080/"
        },
        "id": "WH8DLq235-VC",
        "outputId": "dcfefb79-5d6a-4f86-c969-93325ae782a4"
      },
      "execution_count": 25,
      "outputs": [
        {
          "output_type": "stream",
          "name": "stdout",
          "text": [
            "\n",
            "Unique words:\n",
            "Total unique words: 12595\n"
          ]
        }
      ]
    },
    {
      "cell_type": "code",
      "source": [
        "# Filter reviews with 5 or 6 words\n",
        "filtered_reviews = df_filtered[df_filtered[\"review\"].str.split().str.len().isin([5, 6])]\n",
        "\n",
        "# Print some of the filtered reviews\n",
        "print(\"Sample Reviews with 5 or 6 Words:\")\n",
        "for i in range(10):\n",
        "  print(filtered_reviews.iloc[i][\"review\"])"
      ],
      "metadata": {
        "colab": {
          "base_uri": "https://localhost:8080/"
        },
        "id": "fx7CXGiB7j6p",
        "outputId": "0b7a98db-05b2-44ff-da04-5a27c8202243"
      },
      "execution_count": 26,
      "outputs": [
        {
          "output_type": "stream",
          "name": "stdout",
          "text": [
            "Sample Reviews with 5 or 6 Words:\n",
            "Absolutely FANTABULOUS!!!! I LOOOOOOOOOVE MY CROCS!!!\n",
            "Adorable pop of color, super comfy\n",
            "Again, so comfortable for daily wear.\n",
            "All day long around the house.\n",
            "All the time around the house.\n",
            "Always a great fit, good color.\n",
            "Amazing, so comfortable to wear anywhere.\n",
            "Another great Crocs clog to enjoy.\n",
            "Arrived quickly and were so comfortable!!!!\n",
            "Asesome and Zappos is super quick.\n"
          ]
        }
      ]
    },
    {
      "cell_type": "markdown",
      "source": [
        "It looks comprehensive enough for semantic analyzing. we can capture a misspell on the last review. which is good. We need to understand the reviews are human generated and human makes mistakes, therefor the best practice here is to use a deep learning model to do the semantic analyse, to help us capture those hidden and hard to capture connections."
      ],
      "metadata": {
        "id": "nUByGEhf77cP"
      }
    },
    {
      "cell_type": "markdown",
      "source": [
        "## **3**. Data Preprocessing\n"
      ],
      "metadata": {
        "id": "-mJGh0GduK5j"
      }
    },
    {
      "cell_type": "markdown",
      "source": [
        "As we saw at 2.2 we can filter our data by years > 2020:"
      ],
      "metadata": {
        "id": "pASY5XmauVYl"
      }
    },
    {
      "cell_type": "code",
      "source": [
        "# keep the data for years 2021, 2022, and 2023\n",
        "filtered_df = df[df['datetime'].dt.year.isin([2021, 2022, 2023])]"
      ],
      "metadata": {
        "id": "qiO42olKuRIm"
      },
      "execution_count": 27,
      "outputs": []
    },
    {
      "cell_type": "code",
      "source": [
        "# As we will see this preprocessing is needed for the reviews:\n",
        "def preprocess_text(text):\n",
        "    # Remove leading and trailing punctuation\n",
        "    text = text.strip('!?.,\"\\'()[]{}:;')\n",
        "\n",
        "    # Remove consecutive duplicate punctuation marks\n",
        "    text = re.sub(r'([^\\w\\s]|_)\\1+', r'\\1', text)\n",
        "\n",
        "    # Concatenate consecutive uppercase characters with spaces between them\n",
        "    text = re.sub(r'(?<=[A-Z]) (?=[A-Z])', '', text)\n",
        "    text = re.sub(r'(?<=[A-Z]) (?=[^\\w\\s])', '', text)\n",
        "    text = re.sub(r'(?<=[^\\w\\s]) (?=[A-Z])', '', text)\n",
        "\n",
        "    # Concatenate consecutive characters with spaces between them if there are more than 2 characters\n",
        "    text = re.sub(r'(?<=\\S)(?:\\s*(?=\\S\\s\\S)\\s*){2,}', '', text)\n",
        "\n",
        "    return text\n",
        "\n",
        "for i in range(10):\n",
        "  print(filtered_df[\"review\"].iloc[i])\n",
        "  print(preprocess_text(filtered_df[\"review\"].iloc[i]))\n",
        "  print('|')"
      ],
      "metadata": {
        "colab": {
          "base_uri": "https://localhost:8080/"
        },
        "id": "wIcX0TqluOpx",
        "outputId": "27de4741-3bd9-43e9-b925-a99975440ffd"
      },
      "execution_count": 28,
      "outputs": [
        {
          "output_type": "stream",
          "name": "stdout",
          "text": [
            "!!!!!! E X C E L L E N T!!!!!!!!!!\n",
            " EXCELLENT\n",
            "|\n",
            "\"They're crocs; people know what crocs are.\"\n",
            "They're crocs; people know what crocs are\n",
            "|\n",
            "- Quick delivery and the product arrived when the company said it would. - First pair of Crocs, and they fit perfectly.\n",
            "-Quick delivery and the product arrived when the company said it would. -First pair of Crocs, and they fit perfectly\n",
            "|\n",
            "...amazing \"new\" color!! who knew?? love - love - love it.\n",
            "amazing \"new\" color! who knew? love- love- love it\n",
            "|\n",
            "0 complaints from me; this is the 8th pair of crocs I've bought in like two months of discovering crocs.\n",
            "0 complaints from me; this is the 8th pair of crocs I've bought in like two months of discovering crocs\n",
            "|\n",
            "10/10 I ran from the cops in mine, and they are still in perfect condition, didn't fall off! I def recommend them!\n",
            "10/10I ran from the cops in mine, and they are still in perfect condition, didn't fall off!I def recommend them\n",
            "|\n",
            "The 11 year old granddaughter loves them!!!!!!\n",
            "The 11 year old granddaughter loves them\n",
            "|\n",
            "The 11 yr old daughter loves them.\n",
            "The 11 yr old daughter loves them\n",
            "|\n",
            "12M classic clogs made in Vietnam are great, and I've worn them for years. Not so with the made in Mexico ones. Not wearable, too wide, no arch support, and a waste of money. Since I order online and can't be assured of getting Vietnamese vs Mexican Crocs, I will find a different brand with better quality control.\n",
            "12M classic clogs made in Vietnam are great, and I've worn them for years.Not so with the made in Mexico ones.Not wearable, too wide, no arch support, anda waste of money.SinceI order online and can't be assured of getting Vietnamese vs Mexican Crocs,I will finda different brand with better quality control\n",
            "|\n",
            "My 13 year old grandson chose this color and loves it.\n",
            "My 13 year old grandson chose this color and loves it\n",
            "|\n"
          ]
        }
      ]
    },
    {
      "cell_type": "code",
      "source": [
        "# Apply the preprocessing to the 'review' column\n",
        "filtered_df['review'] = filtered_df['review'].apply(preprocess_text)\n",
        "filtered_df.drop(columns=['date'], inplace=True)"
      ],
      "metadata": {
        "colab": {
          "base_uri": "https://localhost:8080/"
        },
        "id": "qs09PxDlvot3",
        "outputId": "f3eb523c-7348-428e-bba3-ce4fec3be47d"
      },
      "execution_count": 29,
      "outputs": [
        {
          "output_type": "stream",
          "name": "stderr",
          "text": [
            "<ipython-input-29-d9a29044a2f2>:2: SettingWithCopyWarning: \n",
            "A value is trying to be set on a copy of a slice from a DataFrame.\n",
            "Try using .loc[row_indexer,col_indexer] = value instead\n",
            "\n",
            "See the caveats in the documentation: https://pandas.pydata.org/pandas-docs/stable/user_guide/indexing.html#returning-a-view-versus-a-copy\n",
            "  filtered_df['review'] = filtered_df['review'].apply(preprocess_text)\n",
            "<ipython-input-29-d9a29044a2f2>:3: SettingWithCopyWarning: \n",
            "A value is trying to be set on a copy of a slice from a DataFrame\n",
            "\n",
            "See the caveats in the documentation: https://pandas.pydata.org/pandas-docs/stable/user_guide/indexing.html#returning-a-view-versus-a-copy\n",
            "  filtered_df.drop(columns=['date'], inplace=True)\n"
          ]
        }
      ]
    },
    {
      "cell_type": "code",
      "source": [
        "filtered_df.info()"
      ],
      "metadata": {
        "colab": {
          "base_uri": "https://localhost:8080/"
        },
        "id": "Zmit9_U0wErW",
        "outputId": "22c05b12-a495-4dc9-81cd-29c1c6efac56"
      },
      "execution_count": 30,
      "outputs": [
        {
          "output_type": "stream",
          "name": "stdout",
          "text": [
            "<class 'pandas.core.frame.DataFrame'>\n",
            "Index: 8859 entries, croc_review_0 to croc_review_9127\n",
            "Data columns (total 3 columns):\n",
            " #   Column    Non-Null Count  Dtype         \n",
            "---  ------    --------------  -----         \n",
            " 0   review    8859 non-null   object        \n",
            " 1   rating    8859 non-null   float64       \n",
            " 2   datetime  8859 non-null   datetime64[ns]\n",
            "dtypes: datetime64[ns](1), float64(1), object(1)\n",
            "memory usage: 276.8+ KB\n"
          ]
        }
      ]
    },
    {
      "cell_type": "markdown",
      "source": [
        "More over, there is no need for preprocessing the text as we saw in 2.3 or preprocessing the ratings as we saw at 2.1.\n",
        "It is worth to mention that in the text reviews we can lower case/ or do some other manipulations, but our model is strong and capable to understand hidden semantics, and can understand complex phrases, made by human with human biases and misspels. so we dont want to iterfere that."
      ],
      "metadata": {
        "id": "YxFmbsk0upGs"
      }
    },
    {
      "cell_type": "markdown",
      "source": [
        "## **4**. Model Selection\n",
        "### we will use a build in model from the hugging face Transformers library. [Transformers by Hugging Face](https://huggingface.co/docs/transformers/task_summary), 🤗 Transformers is a library of pretrained state-of-the-art models for natural language processing (NLP).\n",
        "\n"
      ],
      "metadata": {
        "id": "xZ7uAFglxCPQ"
      }
    },
    {
      "cell_type": "code",
      "source": [
        "sentiment_analysis_pipeline = pipeline(\"sentiment-analysis\", model='nlptown/bert-base-multilingual-uncased-sentiment')"
      ],
      "metadata": {
        "colab": {
          "base_uri": "https://localhost:8080/",
          "height": 336,
          "referenced_widgets": [
            "2bd2715ca0844acd800639c626da6a07",
            "bf06668141294a49b27e1e832e01bbe9",
            "662ca5958cf4448fa8f8d62fadfbb69d",
            "b13eb6054ba84738a35f5c60e8fcd4b4",
            "950017786c3c4058929b4ac11639abf5",
            "0d57172e9ff74b599d3fd1c62a95dc5a",
            "5dcca46ff94142d5a034415ac47a9284",
            "ec152fc4cfc34301829ee163dbc7642a",
            "3afb08675baa4040a909272889a222f0",
            "f05bf64d19414b58be048d52395599ff",
            "d2405e7dee364e6aa2f75f2f14ece981",
            "2437d32d30114602825ea9c8a53c74ca",
            "1a5189cb85224c17951716601d36c9df",
            "e566b7b8669448359fdcfb503f053022",
            "4b14f4cffa8445f89842e066a5d6b704",
            "da06340281224fa593e2375efd56340b",
            "77df974352ba4b61bcc8220dc3634389",
            "bcb3d3ffcb114018b05566c9fbc6fad5",
            "fa3b1c76be47448aa8cecf1f4c8febf2",
            "fc62cc9a131145288fb7eaa3e10cd74b",
            "d2b6712535b04b048b31e2831889e454",
            "ab73f580ad7342c08c0fe18ee60f5fa2",
            "06181c5a75734c4cae970592aec135ab",
            "fe094c70d5af42e7b01409e7a7259d0d",
            "f2292f37bf4141cbb3a7aef5ce90dd2e",
            "439f5fa402cc4554b1653214ce55d227",
            "2dea528dec454fffaa1740342853330c",
            "4220bd06e1dc4463acc6eb584e0033d3",
            "a9e08998581848b5931999f29c76771a",
            "0ee04a4c0375414da023d041b7eb929e",
            "2566b18f25aa47a9af7aefedae328cc1",
            "af45f416f1cc459999dcccf410b00d87",
            "6596bfcf1dcc482193aa9553d1e4ddb9",
            "d012e59641614d4ab8a92307eaf29b76",
            "42b1f5b294854b9394cafdac0bb8d264",
            "ba048a26718f464eaba5e594f063a397",
            "ee4fd00b65cd4560b5081b2918513aae",
            "1dd972bbfb1c408797b98eb07e3fb15b",
            "56db77c71fbe4f0b8e31c49302b68e31",
            "a613442ff76348c0b04e3a9131d67eab",
            "c37d89d9b20f4ce9aac0b69ed8127a2e",
            "5e317ad93c2c4374b64783909c92d7af",
            "6d84a9203d0f4da998e3d7ea3f97e6f9",
            "be2d3ff1614d49f393b388488638cac5",
            "c0acbc0cef8643a988bd258abe81fdc3",
            "5ad20eece86c4e43a0c31f8623494840",
            "25c91d1d25b945f2a773e3115033f142",
            "08a6e4b3449545749136ab374a1e8ed2",
            "e65f7dde334b4c46a2d5ff3fb1e0b790",
            "852aa89c253f458284fcf54042435f53",
            "4537162f14a245f7bc23db2ad502702d",
            "6ab129fa300346cbb83954e214d90920",
            "0c454c0194a44bffb1aaf192e675548e",
            "195766fbdb03432a975c5ef87ddddb63",
            "41fb3e8088fe490b95b4f584e1cbb9b0"
          ]
        },
        "id": "caBamPr42wqm",
        "outputId": "e6e2b01d-e397-4e58-9328-2679a182dde7"
      },
      "execution_count": 31,
      "outputs": [
        {
          "output_type": "stream",
          "name": "stderr",
          "text": [
            "/usr/local/lib/python3.10/dist-packages/huggingface_hub/utils/_token.py:88: UserWarning: \n",
            "The secret `HF_TOKEN` does not exist in your Colab secrets.\n",
            "To authenticate with the Hugging Face Hub, create a token in your settings tab (https://huggingface.co/settings/tokens), set it as secret in your Google Colab and restart your session.\n",
            "You will be able to reuse this secret in all of your notebooks.\n",
            "Please note that authentication is recommended but still optional to access public models or datasets.\n",
            "  warnings.warn(\n"
          ]
        },
        {
          "output_type": "display_data",
          "data": {
            "text/plain": [
              "config.json:   0%|          | 0.00/953 [00:00<?, ?B/s]"
            ],
            "application/vnd.jupyter.widget-view+json": {
              "version_major": 2,
              "version_minor": 0,
              "model_id": "2bd2715ca0844acd800639c626da6a07"
            }
          },
          "metadata": {}
        },
        {
          "output_type": "display_data",
          "data": {
            "text/plain": [
              "pytorch_model.bin:   0%|          | 0.00/669M [00:00<?, ?B/s]"
            ],
            "application/vnd.jupyter.widget-view+json": {
              "version_major": 2,
              "version_minor": 0,
              "model_id": "2437d32d30114602825ea9c8a53c74ca"
            }
          },
          "metadata": {}
        },
        {
          "output_type": "stream",
          "name": "stderr",
          "text": [
            "/usr/local/lib/python3.10/dist-packages/torch/_utils.py:831: UserWarning: TypedStorage is deprecated. It will be removed in the future and UntypedStorage will be the only storage class. This should only matter to you if you are using storages directly.  To access UntypedStorage directly, use tensor.untyped_storage() instead of tensor.storage()\n",
            "  return self.fget.__get__(instance, owner)()\n"
          ]
        },
        {
          "output_type": "display_data",
          "data": {
            "text/plain": [
              "tokenizer_config.json:   0%|          | 0.00/39.0 [00:00<?, ?B/s]"
            ],
            "application/vnd.jupyter.widget-view+json": {
              "version_major": 2,
              "version_minor": 0,
              "model_id": "06181c5a75734c4cae970592aec135ab"
            }
          },
          "metadata": {}
        },
        {
          "output_type": "display_data",
          "data": {
            "text/plain": [
              "vocab.txt:   0%|          | 0.00/872k [00:00<?, ?B/s]"
            ],
            "application/vnd.jupyter.widget-view+json": {
              "version_major": 2,
              "version_minor": 0,
              "model_id": "d012e59641614d4ab8a92307eaf29b76"
            }
          },
          "metadata": {}
        },
        {
          "output_type": "display_data",
          "data": {
            "text/plain": [
              "special_tokens_map.json:   0%|          | 0.00/112 [00:00<?, ?B/s]"
            ],
            "application/vnd.jupyter.widget-view+json": {
              "version_major": 2,
              "version_minor": 0,
              "model_id": "c0acbc0cef8643a988bd258abe81fdc3"
            }
          },
          "metadata": {}
        }
      ]
    },
    {
      "cell_type": "markdown",
      "source": [
        "the model for the pipeline is set as defult to:\n",
        "distilbert/distilbert-base-uncased-finetuned-sst-2-english and revision af0f99b  \n",
        "\n",
        "[the DistilBERT nodel](https://huggingface.co/docs/transformers/model_doc/distilbert)"
      ],
      "metadata": {
        "id": "fZ32xC7q3LBq"
      }
    },
    {
      "cell_type": "code",
      "source": [
        "# example for usage in the pipeline-\n",
        "print(sentiment_analysis_pipeline('U should register Aviv for work, he whould do a great job!', top_k=5))\n",
        "print(sentiment_analysis_pipeline('I dont know what to think about that product'))\n",
        "print(sentiment_analysis_pipeline('nice'))\n",
        "print(sentiment_analysis_pipeline('I dont have an opinion about that model'))\n",
        "print(sentiment_analysis_pipeline('neutral', top_k=5))"
      ],
      "metadata": {
        "colab": {
          "base_uri": "https://localhost:8080/"
        },
        "id": "MISdwKpX3U3G",
        "outputId": "b27f1660-9978-43a3-fda9-9bba19ab9bc0"
      },
      "execution_count": 32,
      "outputs": [
        {
          "output_type": "stream",
          "name": "stdout",
          "text": [
            "[{'label': '5 stars', 'score': 0.5535928606987}, {'label': '4 stars', 'score': 0.2730450928211212}, {'label': '3 stars', 'score': 0.10073070228099823}, {'label': '1 star', 'score': 0.03864976763725281}, {'label': '2 stars', 'score': 0.033981602638959885}]\n",
            "[{'label': '1 star', 'score': 0.3515641391277313}]\n",
            "[{'label': '4 stars', 'score': 0.4368409514427185}]\n",
            "[{'label': '1 star', 'score': 0.34609270095825195}]\n",
            "[{'label': '3 stars', 'score': 0.26949021220207214}, {'label': '1 star', 'score': 0.21526992321014404}, {'label': '4 stars', 'score': 0.21188130974769592}, {'label': '2 stars', 'score': 0.15994271636009216}, {'label': '5 stars', 'score': 0.14341576397418976}]\n"
          ]
        }
      ]
    },
    {
      "cell_type": "markdown",
      "source": [
        "We can see that we have a freedom to map stars into positive, negative and neutral."
      ],
      "metadata": {
        "id": "BmmEG02_cMCS"
      }
    },
    {
      "cell_type": "code",
      "source": [
        "def analyze_sentiment_naive(text, rating):\n",
        "    \"\"\"\n",
        "    Analyzes sentiment based on a list of scores and adjusts based on the rating.\n",
        "\n",
        "    Args:\n",
        "        text: The text to analyze.\n",
        "        rating: The rating associated with the sentiment.\n",
        "\n",
        "    Returns:\n",
        "        A string representing the sentiment (\"POSITIVE\", \"NEGATIVE\", or \"NEUTRAL\").\n",
        "    \"\"\"\n",
        "    scores = sentiment_analysis_pipeline(text, top_k=2)\n",
        "\n",
        "    # Extract the top 2 labels and scores\n",
        "    top1_label, top1_score = scores[0]['label'], scores[0]['score']\n",
        "    top2_label, top2_score = scores[1]['label'], scores[1]['score']\n",
        "\n",
        "    # Calculate weighted sum for the top 2 labels and the actual rating\n",
        "    weighted_sum = (int(top1_label[0]) * top1_score + int(top2_label[0]) * top2_score) / 3 + rating * 2 / 3\n",
        "\n",
        "    # Determine the sentiment based on proximity to 5, 3, or 1\n",
        "    if weighted_sum > 3.5:\n",
        "        sentiment = 'POSITIVE'\n",
        "    elif weighted_sum < 2.2:\n",
        "        sentiment = 'NEGATIVE'\n",
        "    else:\n",
        "        sentiment = 'NEUTRAL'\n",
        "\n",
        "    return sentiment\n"
      ],
      "metadata": {
        "id": "sXGXG4RR4uOE"
      },
      "execution_count": 58,
      "outputs": []
    },
    {
      "cell_type": "markdown",
      "source": [
        "## **5**. Model Evaluation\n"
      ],
      "metadata": {
        "id": "zsIYc7RmaqMy"
      }
    },
    {
      "cell_type": "code",
      "source": [
        "# A problem with our model-\n",
        "print(df[\"review\"].iloc[0])\n",
        "print(sentiment_analysis_pipeline(df[\"review\"].iloc[0], top_k=2))"
      ],
      "metadata": {
        "colab": {
          "base_uri": "https://localhost:8080/"
        },
        "id": "EmoxJvFWg6ut",
        "outputId": "a0d861f4-0d27-4e7c-f3fb-fdaa810c1a6f"
      },
      "execution_count": 59,
      "outputs": [
        {
          "output_type": "stream",
          "name": "stdout",
          "text": [
            "!!!!!! E X C E L L E N T!!!!!!!!!!\n",
            "[{'label': '1 star', 'score': 0.5536035299301147}, {'label': '2 stars', 'score': 0.14928916096687317}]\n"
          ]
        }
      ]
    },
    {
      "cell_type": "markdown",
      "source": [
        "As we can see we occur a problem there. and the data need some preprocessing."
      ],
      "metadata": {
        "id": "OXhX3EwitzKg"
      }
    },
    {
      "cell_type": "code",
      "source": [
        "# solution\n",
        "def preprocess_text(text):\n",
        "    # Remove leading and trailing punctuation\n",
        "    text = text.strip('!?.,\"\\'()[]{}:;')\n",
        "\n",
        "    # Remove consecutive duplicate punctuation marks\n",
        "    text = re.sub(r'([^\\w\\s]|_)\\1+', r'\\1', text)\n",
        "\n",
        "    # Concatenate consecutive uppercase characters with spaces between them\n",
        "    text = re.sub(r'(?<=[A-Z]) (?=[A-Z])', '', text)\n",
        "    text = re.sub(r'(?<=[A-Z]) (?=[^\\w\\s])', '', text)\n",
        "    text = re.sub(r'(?<=[^\\w\\s]) (?=[A-Z])', '', text)\n",
        "\n",
        "    # Concatenate consecutive characters with spaces between them if there are more than 2 characters\n",
        "    text = re.sub(r'(?<=\\S)(?:\\s*(?=\\S\\s\\S)\\s*){2,}', '', text)\n",
        "\n",
        "    return text\n",
        "\n",
        "for i in range(10):\n",
        "  print(df[\"review\"].iloc[i])\n",
        "  print(preprocess_text(df[\"review\"].iloc[i]))\n",
        "  print('|')"
      ],
      "metadata": {
        "colab": {
          "base_uri": "https://localhost:8080/"
        },
        "id": "EpnjashYqLzr",
        "outputId": "29743f5c-8e8a-47ff-ef2b-972e8c614c8f"
      },
      "execution_count": 60,
      "outputs": [
        {
          "output_type": "stream",
          "name": "stdout",
          "text": [
            "!!!!!! E X C E L L E N T!!!!!!!!!!\n",
            " EXCELLENT\n",
            "|\n",
            "\"They're crocs; people know what crocs are.\"\n",
            "They're crocs; people know what crocs are\n",
            "|\n",
            "- Quick delivery and the product arrived when the company said it would. - First pair of Crocs, and they fit perfectly.\n",
            "-Quick delivery and the product arrived when the company said it would. -First pair of Crocs, and they fit perfectly\n",
            "|\n",
            "...amazing \"new\" color!! who knew?? love - love - love it.\n",
            "amazing \"new\" color! who knew? love- love- love it\n",
            "|\n",
            "0 complaints from me; this is the 8th pair of crocs I've bought in like two months of discovering crocs.\n",
            "0 complaints from me; this is the 8th pair of crocs I've bought in like two months of discovering crocs\n",
            "|\n",
            "10/10 I ran from the cops in mine, and they are still in perfect condition, didn't fall off! I def recommend them!\n",
            "10/10I ran from the cops in mine, and they are still in perfect condition, didn't fall off!I def recommend them\n",
            "|\n",
            "The 11 year old granddaughter loves them!!!!!!\n",
            "The 11 year old granddaughter loves them\n",
            "|\n",
            "The 11 yr old daughter loves them.\n",
            "The 11 yr old daughter loves them\n",
            "|\n",
            "12M classic clogs made in Vietnam are great, and I've worn them for years. Not so with the made in Mexico ones. Not wearable, too wide, no arch support, and a waste of money. Since I order online and can't be assured of getting Vietnamese vs Mexican Crocs, I will find a different brand with better quality control.\n",
            "12M classic clogs made in Vietnam are great, and I've worn them for years.Not so with the made in Mexico ones.Not wearable, too wide, no arch support, anda waste of money.SinceI order online and can't be assured of getting Vietnamese vs Mexican Crocs,I will finda different brand with better quality control\n",
            "|\n",
            "My 13 year old grandson chose this color and loves it.\n",
            "My 13 year old grandson chose this color and loves it\n",
            "|\n"
          ]
        }
      ]
    },
    {
      "cell_type": "code",
      "source": [
        "# We fixed the problem-\n",
        "print(df[\"review\"].iloc[0], df[\"rating\"].iloc[0])\n",
        "print(sentiment_analysis_pipeline(preprocess_text(df[\"review\"].iloc[0]), top_k=2))"
      ],
      "metadata": {
        "colab": {
          "base_uri": "https://localhost:8080/"
        },
        "id": "8gN_IoICtOiY",
        "outputId": "f59b7ada-2030-4063-b5c3-5f138c997528"
      },
      "execution_count": 61,
      "outputs": [
        {
          "output_type": "stream",
          "name": "stdout",
          "text": [
            "!!!!!! E X C E L L E N T!!!!!!!!!! 5.0\n",
            "[{'label': '5 stars', 'score': 0.8669129014015198}, {'label': '4 stars', 'score': 0.11125952750444412}]\n"
          ]
        }
      ]
    },
    {
      "cell_type": "markdown",
      "source": [
        "So we will add this in the preprocess section."
      ],
      "metadata": {
        "id": "uGr8oamEuHJl"
      }
    },
    {
      "cell_type": "code",
      "source": [
        "# Sample 2% of the rows randomly\n",
        "sample = filtered_df.sample(frac=0.02, random_state=42)  # Replace 42 with any desired seed for reproducibility\n",
        "print(len(sample))\n",
        "\n",
        "# Apply sentiment analysis to each review and store the result in a new column\n",
        "sample[\"sentiment\"] = sample.apply(lambda row: analyze_sentiment_naive(row[\"review\"], row[\"rating\"]), axis=1)"
      ],
      "metadata": {
        "colab": {
          "base_uri": "https://localhost:8080/"
        },
        "id": "Q4Zlirq640xN",
        "outputId": "8c329ac7-5d3b-466c-b5cb-1a2e9f0397a8"
      },
      "execution_count": 62,
      "outputs": [
        {
          "output_type": "stream",
          "name": "stdout",
          "text": [
            "177\n"
          ]
        }
      ]
    },
    {
      "cell_type": "code",
      "source": [
        "print(sample.head(20))"
      ],
      "metadata": {
        "colab": {
          "base_uri": "https://localhost:8080/"
        },
        "id": "rit8Ld5CBRIE",
        "outputId": "93a0a86a-fa8f-4b2c-b989-0451d0e70004"
      },
      "execution_count": 63,
      "outputs": [
        {
          "output_type": "stream",
          "name": "stdout",
          "text": [
            "                                                             review  rating  \\\n",
            "id                                                                            \n",
            "croc_review_3626                   I love these for the summer time     5.0   \n",
            "croc_review_7283  The crocs fit me just right, and the color is ...     5.0   \n",
            "croc_review_803   Finally!My \"PEPPER\" color CLASSICCROCS!NowI ca...     5.0   \n",
            "croc_review_8898   Very comfy.The color was beautiful, true to size     5.0   \n",
            "croc_review_3235  I love the color purple, and these shoes had t...     5.0   \n",
            "croc_review_993        Great Crocks.I dreamed about it for 10 years     5.0   \n",
            "croc_review_3043  I love my crocs!They are very comfortable.It f...     5.0   \n",
            "croc_review_2236  I got them for my dad asa Christmas gift, and ...     5.0   \n",
            "croc_review_4411  I was not aware that the product was made in V...     3.0   \n",
            "croc_review_4776        I'ma tech ina hospital, and they feel great     5.0   \n",
            "croc_review_1272  Hiked in them when the trail wasn't too rough....     5.0   \n",
            "croc_review_5677  My children will love their gifts once they op...     5.0   \n",
            "croc_review_9231  use fora quick on and off and comfortable, was...     5.0   \n",
            "croc_review_5669  My boyfriend wears size 18.He didn't 'do' flip...     5.0   \n",
            "croc_review_6111  My order initially got lost in the mail, which...     5.0   \n",
            "croc_review_2840  I love crocs.With that said,I will also say th...     5.0   \n",
            "croc_review_4034  I purchased these for my niece, and she loves ...     5.0   \n",
            "croc_review_9155  You can never go wrong with the classic Crocs....     5.0   \n",
            "croc_review_8867  Very comfortable.The color is ver yellow and n...     4.0   \n",
            "croc_review_6094  My new favorite pair!I lovea classic white clo...     5.0   \n",
            "\n",
            "                   datetime sentiment  \n",
            "id                                     \n",
            "croc_review_3626 2023-08-13  POSITIVE  \n",
            "croc_review_7283 2021-10-15  POSITIVE  \n",
            "croc_review_803  2022-04-08  POSITIVE  \n",
            "croc_review_8898 2022-11-03  POSITIVE  \n",
            "croc_review_3235 2022-04-23  POSITIVE  \n",
            "croc_review_993  2021-05-03  POSITIVE  \n",
            "croc_review_3043 2021-05-26  POSITIVE  \n",
            "croc_review_2236 2022-01-08  POSITIVE  \n",
            "croc_review_4411 2022-01-29   NEUTRAL  \n",
            "croc_review_4776 2021-09-07  POSITIVE  \n",
            "croc_review_1272 2021-07-15  POSITIVE  \n",
            "croc_review_5677 2021-12-13  POSITIVE  \n",
            "croc_review_9231 2021-05-29  POSITIVE  \n",
            "croc_review_5669 2022-04-17  POSITIVE  \n",
            "croc_review_6111 2022-05-13  POSITIVE  \n",
            "croc_review_2840 2021-06-05  POSITIVE  \n",
            "croc_review_4034 2021-04-21  POSITIVE  \n",
            "croc_review_9155 2021-04-02  POSITIVE  \n",
            "croc_review_8867 2023-07-14  POSITIVE  \n",
            "croc_review_6094 2021-07-13  POSITIVE  \n"
          ]
        }
      ]
    },
    {
      "cell_type": "code",
      "source": [
        "# some interesting example... is that POSITIVE or NEUTRAL ?\n",
        "print(sample.loc['croc_review_2840']['review'])\n",
        "print(sample.loc['croc_review_2840']['rating'])\n",
        "print(sample.loc['croc_review_2840']['sentiment'])"
      ],
      "metadata": {
        "colab": {
          "base_uri": "https://localhost:8080/"
        },
        "id": "WUfkCkYbl13c",
        "outputId": "c9e1a70d-f837-4174-b395-8c957c3f9b1e"
      },
      "execution_count": 64,
      "outputs": [
        {
          "output_type": "stream",
          "name": "stdout",
          "text": [
            "I love crocs.With that said,I will also say that sometimesI get two pairs of the same exact size and they're slightly different in the arch.That's what you get witha mold\n",
            "5.0\n",
            "POSITIVE\n"
          ]
        }
      ]
    },
    {
      "cell_type": "code",
      "source": [
        "# some interesting example... This one is hard to capture, note that 3 stars is usually neutral.\n",
        "print(sample.loc['croc_review_4411']['review'])\n",
        "print(sample.loc['croc_review_4411']['rating'])\n",
        "print(sample.loc['croc_review_4411']['sentiment'])"
      ],
      "metadata": {
        "colab": {
          "base_uri": "https://localhost:8080/"
        },
        "id": "ciUJ-xoZnP7l",
        "outputId": "7aa34265-0cd9-4af9-e765-7a838cd91a9b"
      },
      "execution_count": 65,
      "outputs": [
        {
          "output_type": "stream",
          "name": "stdout",
          "text": [
            "I was not aware that the product was made in Vietnam and China.The product is overpriced, and shipping took 17 days\n",
            "3.0\n",
            "NEUTRAL\n"
          ]
        }
      ]
    },
    {
      "cell_type": "markdown",
      "source": [
        "lets take a look of missmatched sentiment and ratings:"
      ],
      "metadata": {
        "id": "NM8D4fScxkCV"
      }
    },
    {
      "cell_type": "code",
      "source": [
        "positive_low_rating_reviews = sample[(sample['sentiment'] == 'POSITIVE') & (sample['rating'] <= 4)]\n",
        "for index, row in positive_low_rating_reviews.iterrows():\n",
        "  print(row['rating'])\n",
        "  print(f\"{index}:\\t{row['review']}\")\n",
        "  print(sentiment_analysis_pipeline(row['review'], top_k=2))"
      ],
      "metadata": {
        "colab": {
          "base_uri": "https://localhost:8080/"
        },
        "id": "hBaqNMEqxs2c",
        "outputId": "99cc39bc-f7b4-4211-c298-653c7f35bd29"
      },
      "execution_count": 66,
      "outputs": [
        {
          "output_type": "stream",
          "name": "stdout",
          "text": [
            "4.0\n",
            "croc_review_8867:\tVery comfortable.The color is ver yellow and not lime yellow in the picture\n",
            "[{'label': '4 stars', 'score': 0.5419479608535767}, {'label': '5 stars', 'score': 0.30810704827308655}]\n",
            "4.0\n",
            "croc_review_7313:\tThe first pair I've owned, andI love them.I suffer with foot pain, and these really help.I will be purchasing additional pairs\n",
            "[{'label': '5 stars', 'score': 0.8582723736763}, {'label': '4 stars', 'score': 0.1309296190738678}]\n",
            "4.0\n",
            "croc_review_6741:\tShoe is decent; it does the job.Don't pay for the quick shipment because it does not come in the time they give you, and they tell you it's not their fault and won't refund you expedited shipping\n",
            "[{'label': '3 stars', 'score': 0.6365705132484436}, {'label': '4 stars', 'score': 0.2656480669975281}]\n",
            "4.0\n",
            "croc_review_6653:\tRather pricey fora plastic SHOE- but they are what my grandsons wanted\n",
            "[{'label': '3 stars', 'score': 0.4429547190666199}, {'label': '4 stars', 'score': 0.38408857583999634}]\n",
            "4.0\n",
            "croc_review_7045:\tSuper cute!A little darker than expected, and there wasa small tear in the silicone material on the left clog, but nothing too noticeable!I love them so much andI can't wait to wear them all the time\n",
            "[{'label': '4 stars', 'score': 0.6659272313117981}, {'label': '5 stars', 'score': 0.31778866052627563}]\n",
            "4.0\n",
            "croc_review_2032:\tI brought them for my mother asa birthday gift.She is so obsessed with the crocs; she loves them.She is now requesting thatI get hera pink pair\n",
            "[{'label': '5 stars', 'score': 0.5161250829696655}, {'label': '4 stars', 'score': 0.39106205105781555}]\n",
            "4.0\n",
            "croc_review_815:\tFirst pair of Crocs.Comfortable and durable.Tried ona pair at the store, and they ran small.Got these from Crocs, and they'rea bit bigger.Same size, justa different fit\n",
            "[{'label': '4 stars', 'score': 0.5488688349723816}, {'label': '5 stars', 'score': 0.2268759310245514}]\n",
            "4.0\n",
            "croc_review_3301:\tI love the fit; knew the color was for my yard use only.it'sa weird shade of yellow, butI still love them\n",
            "[{'label': '4 stars', 'score': 0.4831583499908447}, {'label': '5 stars', 'score': 0.3912699520587921}]\n",
            "4.0\n",
            "croc_review_6108:\tMy only criticism is that this pair (made in Mexico) is ever-so-slightly smaller than my other pair (made in Vietnam).I've used the hairdryer-and-thick-sock method to stretch thema bit, and I'm sure they'll be fine.ButI wonder why your quality control doesn't prevent this\n",
            "[{'label': '3 stars', 'score': 0.41148999333381653}, {'label': '4 stars', 'score': 0.3288840651512146}]\n",
            "4.0\n",
            "croc_review_2269:\tI got these for my boyfriend, and he LOVES them.I definitely would size down if you want them more fitted bc they area little loose on him\n",
            "[{'label': '4 stars', 'score': 0.606264591217041}, {'label': '5 stars', 'score': 0.3038254380226135}]\n"
          ]
        }
      ]
    },
    {
      "cell_type": "markdown",
      "source": [
        "Note that even if the reviews didnt got 5 star rating, we did managed to map them correctly.\n",
        "\n"
      ],
      "metadata": {
        "id": "meno3NZLC3Rv"
      }
    },
    {
      "cell_type": "code",
      "source": [
        "negative_high_rating_reviews = sample[(sample['sentiment'] == 'NEGATIVE') & (sample['rating'] >= 2)]\n",
        "for index, row in negative_high_rating_reviews.iterrows():\n",
        "  print(row['rating'])\n",
        "  print(f\"{index}:\\t{row['review']}\")\n",
        "  print(sentiment_analysis_pipeline(row['review'], top_k=2))"
      ],
      "metadata": {
        "colab": {
          "base_uri": "https://localhost:8080/"
        },
        "id": "uidxlV6oDHEE",
        "outputId": "f1d40b59-4c68-472b-c240-041ad8eafb22"
      },
      "execution_count": 67,
      "outputs": [
        {
          "output_type": "stream",
          "name": "stdout",
          "text": [
            "2.0\n",
            "croc_review_6775:\tSizing is different from other crocs\n",
            "[{'label': '3 stars', 'score': 0.37140321731567383}, {'label': '4 stars', 'score': 0.24140003323554993}]\n",
            "2.0\n",
            "croc_review_6350:\tNot as soft as my old Crocs\n",
            "[{'label': '3 stars', 'score': 0.6484664678573608}, {'label': '2 stars', 'score': 0.24863789975643158}]\n",
            "2.0\n",
            "croc_review_561:\tCrocs are great.however, it took2 1/2 weeks to get my order from them.First time ordering from the website.will not order again\n",
            "[{'label': '2 stars', 'score': 0.4372004568576813}, {'label': '3 stars', 'score': 0.3040655553340912}]\n",
            "2.0\n",
            "croc_review_4134:\tI takea men's9 1/2 shoe size.I ordereda9 in the Croc Clog black.They were manufactured in China instead of Vietnam as in the past.The Crocs were so oversized upon arrival thatI was floating in them likea size 10.I was going to send them back and even called to make the arrangements.But instead,I read online that you can shrink them ina dryer.I followed that online procedure, and they are nowa perfect fit.You shouldn't have to do that, and the company should investigate why their quality is now subpar to what it used to be.I havea discontinued men's classic black sandal with the back strap from Vietnam and simply love them out of the box.Please bring those back.You couldn't keep them in stock.And bring back the quality that the Croc name was once known for\n",
            "[{'label': '1 star', 'score': 0.28182777762413025}, {'label': '2 stars', 'score': 0.2752930521965027}]\n",
            "2.0\n",
            "croc_review_113:\tAfter the first wear, they started to look worn excessively\n",
            "[{'label': '2 stars', 'score': 0.4959183633327484}, {'label': '1 star', 'score': 0.34723758697509766}]\n",
            "2.0\n",
            "croc_review_6789:\tSo2 stars for great color, but bad quality control.I purchased the army green classic clog.I takea7 in Crocs, but these were huge.I brought them back to the local store.We checked to make sureI didn't order men's clogs, but these were women's.A clerk agreed they were way bigger than other size 7s.Someone said it depends where they are made—some are made in China, some in Mexico, and some in Vietnam.You need better quality control,Crocland.The store didn't have this color.Boo.I exchanged them fora hot pink pair, and of course, boughta white pair too\n",
            "[{'label': '2 stars', 'score': 0.7294796109199524}, {'label': '3 stars', 'score': 0.19110457599163055}]\n"
          ]
        }
      ]
    },
    {
      "cell_type": "markdown",
      "source": [
        "Note that even if the reviews didnt got 1 star rating, we did managed to map them correctly."
      ],
      "metadata": {
        "id": "4mV1O8UJEiJf"
      }
    },
    {
      "cell_type": "code",
      "source": [
        "neutral_high_rating_reviews = sample[(sample['sentiment'] == 'NEUTRAL') & (sample['rating'] >= 4)]\n",
        "for index, row in neutral_high_rating_reviews.iterrows():\n",
        "  print(row['rating'])\n",
        "  print(f\"{index}:\\t{row['review']}\")\n",
        "  print(sentiment_analysis_pipeline(row['review'], top_k=2))"
      ],
      "metadata": {
        "colab": {
          "base_uri": "https://localhost:8080/"
        },
        "id": "MR0B-a3sEx3E",
        "outputId": "17fc7656-917b-46b2-d30b-7e603949c0a3"
      },
      "execution_count": 69,
      "outputs": [
        {
          "output_type": "stream",
          "name": "stdout",
          "text": [
            "4.0\n",
            "croc_review_7482:\tThe right strap is upside down and bigger than the left\n",
            "[{'label': '2 stars', 'score': 0.43093785643577576}, {'label': '1 star', 'score': 0.2989359200000763}]\n",
            "4.0\n",
            "croc_review_2340:\tI had always used this model; they run small now\n",
            "[{'label': '3 stars', 'score': 0.36462998390197754}, {'label': '2 stars', 'score': 0.35813358426094055}]\n"
          ]
        }
      ]
    },
    {
      "cell_type": "code",
      "source": [
        "neutral_low_rating_reviews = sample[(sample['sentiment'] == 'NEUTRAL') & (sample['rating'] <= 2)]\n",
        "for index, row in neutral_low_rating_reviews.iterrows():\n",
        "  print(row['rating'])\n",
        "  print(f\"{index}:\\t{row['review']}\")\n",
        "  print(sentiment_analysis_pipeline(row['review'], top_k=2))"
      ],
      "metadata": {
        "id": "dxUr9VGWZSLq"
      },
      "execution_count": 71,
      "outputs": []
    },
    {
      "cell_type": "markdown",
      "source": [
        "As we can infer, the naive sentiment analysis was sucssesful overall."
      ],
      "metadata": {
        "id": "uLqGlkWMZouh"
      }
    },
    {
      "cell_type": "code",
      "source": [
        "# run the model over the filtered data set\n",
        "# Apply sentiment analysis to each review and store the result in a new column\n",
        "filtered_df[\"sentiment\"] = filtered_df.apply(lambda row: analyze_sentiment_naive(row[\"review\"], row[\"rating\"]), axis=1)"
      ],
      "metadata": {
        "id": "XshrL3C-eNfD"
      },
      "execution_count": 73,
      "outputs": []
    },
    {
      "cell_type": "code",
      "source": [
        "sentiment_distribution = filtered_df[\"sentiment\"].value_counts()\n",
        "print(sentiment_distribution)"
      ],
      "metadata": {
        "colab": {
          "base_uri": "https://localhost:8080/"
        },
        "id": "MGFgIfmJnaKy",
        "outputId": "faa05d12-f566-45b1-87c3-2b1b900db778"
      },
      "execution_count": 74,
      "outputs": [
        {
          "output_type": "stream",
          "name": "stdout",
          "text": [
            "POSITIVE    7784\n",
            "NEGATIVE     562\n",
            "NEUTRAL      513\n",
            "Name: sentiment, dtype: int64\n"
          ]
        }
      ]
    },
    {
      "cell_type": "code",
      "source": [
        "average_sentiment_by_rating = filtered_df.groupby(\"rating\")[\"sentiment\"].value_counts(normalize=True).unstack().fillna(0)\n",
        "print(average_sentiment_by_rating)\n"
      ],
      "metadata": {
        "colab": {
          "base_uri": "https://localhost:8080/"
        },
        "id": "VGtKMNgdntlo",
        "outputId": "0d1f59d9-164e-4050-ca10-e589aa515a23"
      },
      "execution_count": 75,
      "outputs": [
        {
          "output_type": "stream",
          "name": "stdout",
          "text": [
            "sentiment  NEGATIVE   NEUTRAL  POSITIVE\n",
            "rating                                 \n",
            "1.0        0.997436  0.002564  0.000000\n",
            "2.0        0.910526  0.089474  0.000000\n",
            "3.0        0.000000  0.988338  0.011662\n",
            "4.0        0.000000  0.282609  0.717391\n",
            "5.0        0.000000  0.000000  1.000000\n"
          ]
        }
      ]
    },
    {
      "cell_type": "code",
      "source": [
        "# Bar plot of sentiment distribution\n",
        "plt.figure(figsize=(8, 5))\n",
        "sns.countplot(x=\"sentiment\", data=filtered_df)\n",
        "plt.title(\"Sentiment Distribution\")\n",
        "plt.show()"
      ],
      "metadata": {
        "colab": {
          "base_uri": "https://localhost:8080/",
          "height": 487
        },
        "id": "ix1wGS5Tn_Ju",
        "outputId": "9bd9e093-ec53-4d2b-d49f-50fd8bd1532e"
      },
      "execution_count": 76,
      "outputs": [
        {
          "output_type": "display_data",
          "data": {
            "text/plain": [
              "<Figure size 800x500 with 1 Axes>"
            ],
            "image/png": "[encoded data removed]"
          },
          "metadata": {}
        }
      ]
    },
    {
      "cell_type": "code",
      "source": [
        "positive_low_rating_reviews_ = filtered_df[(filtered_df['sentiment'] == 'POSITIVE') & (filtered_df['rating'] <= 3)]\n",
        "for index, row in positive_low_rating_reviews_.iterrows():\n",
        "  print(row['rating'])\n",
        "  print(f\"{index}:\\t{row['review']}\")\n",
        "  print(sentiment_analysis_pipeline(row['review'], top_k=2))"
      ],
      "metadata": {
        "colab": {
          "base_uri": "https://localhost:8080/"
        },
        "id": "nhp9qDU_oO9P",
        "outputId": "93785885-db35-49ac-fd0b-0d202e238107"
      },
      "execution_count": 77,
      "outputs": [
        {
          "output_type": "stream",
          "name": "stdout",
          "text": [
            "3.0\n",
            "croc_review_1189:\tGreat shoes.I have loved them this summer.Buta word of caution.Don't leave them in the sun.Mine shranka size.I've read you can shrink them by hearing them again and wearing them\n",
            "[{'label': '5 stars', 'score': 0.8293255567550659}, {'label': '4 stars', 'score': 0.15428520739078522}]\n",
            "3.0\n",
            "croc_review_2574:\tI have wide feet and flat feet, so these are definitely my go-to.They fit great and are not tight on my feet!I like the variety of colors to choose from too\n",
            "[{'label': '5 stars', 'score': 0.7693585753440857}, {'label': '4 stars', 'score': 0.22110465168952942}]\n",
            "3.0\n",
            "croc_review_3716:\tI love this already, and it's only my first pair of Converse ever\n",
            "[{'label': '5 stars', 'score': 0.7318488359451294}, {'label': '4 stars', 'score': 0.24105840921401978}]\n",
            "3.0\n",
            "croc_review_4485:\tI wear crocs basically every day, andI love them\n",
            "[{'label': '5 stars', 'score': 0.7338131070137024}, {'label': '4 stars', 'score': 0.22523637115955353}]\n"
          ]
        }
      ]
    },
    {
      "cell_type": "code",
      "source": [
        "negative_high_rating_reviews_ = filtered_df[(filtered_df['sentiment'] == 'NEGATIVE') & (filtered_df['rating'] >= 3)]\n",
        "for index, row in negative_high_rating_reviews_.iterrows():\n",
        "  print(row['rating'])\n",
        "  print(f\"{index}:\\t{row['review']}\")\n",
        "  print(sentiment_analysis_pipeline(row['review'], top_k=2))"
      ],
      "metadata": {
        "id": "UZEgBSY_okFG"
      },
      "execution_count": 79,
      "outputs": []
    },
    {
      "cell_type": "code",
      "source": [
        "neutral_rating_reviews = filtered_df[(filtered_df['sentiment'] == 'NEUTRAL') & (filtered_df['rating'] == 1)]\n",
        "for index, row in neutral_rating_reviews.iterrows():\n",
        "  print(row['rating'])\n",
        "  print(f\"{index}:\\t{row['review']}\")\n",
        "  print(sentiment_analysis_pipeline(row['review'], top_k=2))"
      ],
      "metadata": {
        "colab": {
          "base_uri": "https://localhost:8080/"
        },
        "id": "INvI5es5o1JP",
        "outputId": "867d6b71-b8d2-46e8-e819-3f686b2bdba3"
      },
      "execution_count": 82,
      "outputs": [
        {
          "output_type": "stream",
          "name": "stdout",
          "text": [
            "1.0\n",
            "croc_review_6527:\tPerfect for working in the garden.I left them on my porch and came back two days later and couldn't get my foot in them.Don't leave them outside in the sun\n",
            "[{'label': '5 stars', 'score': 0.8532690405845642}, {'label': '4 stars', 'score': 0.13172191381454468}]\n"
          ]
        }
      ]
    },
    {
      "cell_type": "code",
      "source": [
        "neutral_rating_reviews_ = filtered_df[(filtered_df['sentiment'] == 'NEUTRAL') & (filtered_df['rating'] == 5)]\n",
        "for index, row in neutral_rating_reviews_.iterrows():\n",
        "  print(row['rating'])\n",
        "  print(f\"{index}:\\t{row['review']}\")\n",
        "  print(sentiment_analysis_pipeline(row['review'], top_k=2))"
      ],
      "metadata": {
        "id": "TgA-d2-wpq87"
      },
      "execution_count": 85,
      "outputs": []
    },
    {
      "cell_type": "code",
      "source": [
        "# Create a count plot to visualize sentiment distribution over time\n",
        "plt.figure(figsize=(12, 6))\n",
        "sns.countplot(x=filtered_df['datetime'].dt.year, hue='sentiment', data=filtered_df, palette='viridis')\n",
        "plt.title('Sentiment Distribution Over the Years')\n",
        "plt.xlabel('Year')\n",
        "plt.ylabel('Count')\n",
        "plt.show()"
      ],
      "metadata": {
        "colab": {
          "base_uri": "https://localhost:8080/",
          "height": 474
        },
        "id": "26Vlgqsjp7q6",
        "outputId": "2d34ab8f-c025-474d-dd6f-923e6b492dc0"
      },
      "execution_count": 87,
      "outputs": [
        {
          "output_type": "display_data",
          "data": {
            "text/plain": [
              "<Figure size 1200x600 with 1 Axes>"
            ],
            "image/png": "[encoded data removed]"
          },
          "metadata": {}
        }
      ]
    },
    {
      "cell_type": "code",
      "source": [
        "sentiment_distribution = filtered_df['sentiment'].value_counts()\n",
        "\n",
        "# Plotting a pie chart for the overall sentiment distribution\n",
        "plt.figure(figsize=(6, 6))\n",
        "plt.pie(sentiment_distribution, labels=sentiment_distribution.index, autopct='%1.1f%%', startangle=90)\n",
        "plt.title('Sentiment Distribution - Overall')\n",
        "plt.show()\n",
        "\n",
        "# Plotting pie charts for each year (2021-2023)\n",
        "for year in range(2021, 2024):\n",
        "    data_slice = filtered_df.loc[filtered_df['datetime'].dt.year == year, 'sentiment'].value_counts()\n",
        "\n",
        "    # Plotting a pie chart for each year\n",
        "    plt.figure(figsize=(6, 6))\n",
        "    plt.pie(data_slice, labels=data_slice.index, autopct='%1.1f%%', startangle=90)\n",
        "    plt.title(f'Sentiment Distribution - {year}')\n",
        "    plt.show()"
      ],
      "metadata": {
        "colab": {
          "base_uri": "https://localhost:8080/",
          "height": 1000
        },
        "id": "HumLJcSGs4g0",
        "outputId": "3ca5619d-6b49-4aa6-c5c5-e397e6e914af"
      },
      "execution_count": 95,
      "outputs": [
        {
          "output_type": "display_data",
          "data": {
            "text/plain": [
              "<Figure size 600x600 with 1 Axes>"
            ],
            "image/png": "[encoded data removed]"
          },
          "metadata": {}
        },
        {
          "output_type": "display_data",
          "data": {
            "text/plain": [
              "<Figure size 600x600 with 1 Axes>"
            ],
            "image/png": "[encoded data removed]"
          },
          "metadata": {}
        },
        {
          "output_type": "display_data",
          "data": {
            "text/plain": [
              "<Figure size 600x600 with 1 Axes>"
            ],
            "image/png": "[encoded data removed]"
          },
          "metadata": {}
        },
        {
          "output_type": "display_data",
          "data": {
            "text/plain": [
              "<Figure size 600x600 with 1 Axes>"
            ],
            "image/png": "[encoded data removed]"
          },
          "metadata": {}
        }
      ]
    },
    {
      "cell_type": "markdown",
      "source": [
        "We can see a trend of a moderate decrease in the sentiment of the review of the product."
      ],
      "metadata": {
        "id": "5SYJFSjbtq6R"
      }
    },
    {
      "cell_type": "markdown",
      "source": [
        "## **6**. Conclusion and Future Work:\n",
        "\n"
      ],
      "metadata": {
        "id": "UYPh4sC4b1Gp"
      }
    },
    {
      "cell_type": "markdown",
      "source": [
        "## Key Findings:\n",
        "\n",
        "The sentiment analysis model works well and provides deep understanding of complex reviews. incorporating a weighted sum of the top 2 scores, provides a nuanced understanding of sentiment in reviews.\n",
        "\n",
        "##Potential Limitations:\n",
        "\n",
        "1.   Dependency on Pre-trained Model: The accuracy of sentiment analysis heavily relies on the pre-trained model's performance, even though he trained on reviews and build for sentiment analysis.\n",
        "2.   Subjectivity in Rating Interpretation: Assigning sentiments based on rating thresholds introduces subjectivity, as different users may interpret ratings differently.\n",
        "3.  Limited Context Understanding: The model may struggle to capture nuances (sarcasm etc) or context-specific meanings in reviews, potentially leading to misclassifications.\n",
        "4. Sensitivity to Top-K Selection: The sentiment may be sensitive to the choice of the top-k scores, and changes in the model or data could impact results.\n",
        "5. Handling Out-of-Vocabulary Terms: The model may struggle with out-of-vocabulary terms or domain-specific language not covered during pre-training.\n",
        "\n"
      ],
      "metadata": {
        "id": "SvfNeOXFcmXV"
      }
    },
    {
      "cell_type": "markdown",
      "source": [
        "## We'll suggest possible areas for future improvement:\n",
        "\n",
        "\n",
        "1. Fine-Tuning on Domain-Specific Data:  \n",
        " Fine-tuning the sentiment analysis model on domain-specific data can enhance its understanding of industry-specific language and context.\n",
        "2. Integrating different models together:  \n",
        "Integrating different models entails combining diverse machine learning approaches for enhanced system performance and problem-solving. This strategy leverages the strengths of individual models to achieve improved accuracy and robustness.\n",
        "3. Handling Sarcasm and Irony:  \n",
        "Implementing strategies to identify and handle sarcasm or irony in reviews, as these linguistic nuances can significantly impact sentiment but may be challenging for models to interpret.\n",
        "4. Dynamic Weighting Strategies:  \n",
        "Experimenting with dynamic weighting strategies for the top-k scores, adapting the weights based on specific characteristics of the reviews or sentiments.\n",
        "5. Making the computation faster:  \n",
        "Implementing optimization techniques such as parallel processing, distributed computing, or model quantization to accelerate the computation speed, ensuring a more efficient and responsive system for analyzing reviews.\n",
        "6. Comparing different analysers for this specific model:  \n",
        "in this analysis we focused on a naive analyser, and didnt explored other ways of labeling. future work can include using complexed methods of analysis.\n",
        "7. Trying other models, such as advanced deep learning or nltk.\n",
        "\n",
        "\n",
        "\n"
      ],
      "metadata": {
        "id": "1vt7Up8KgMDW"
      }
    }
  ]
}